{
 "cells": [
  {
   "cell_type": "markdown",
   "metadata": {},
   "source": [
    "# Flight Prices Prediction\n",
    "\n",
    "Flight prices change all the time and everyone likes a good bargain! \n",
    "\n",
    "### Datasets\n",
    "\n",
    "This project consists of 2 datasets - the train and test. \n",
    "\n",
    "Both Dataset have the following information:\n",
    "\n",
    "1. Airline - name of airline\n",
    "\n",
    "2. Date of Journey -date in dd/mm/yyyy\n",
    "\n",
    "3. Source - Departure City\n",
    "\n",
    "4. Destination - End City\n",
    "\n",
    "5. Route - all the cities the flight goes through\n",
    "\n",
    "6. Dep_time - Departure time\n",
    "\n",
    "7. Arrival_time - Arrival Time\n",
    "\n",
    "8. Duration - How long the flight is \n",
    "\n",
    "9. Total_stops - Is the flight non-stop or does it have any stops\n",
    "\n",
    "10. Additional_info - Information like in-flight meal, layovers, baggage, etc is included in this column.\n",
    "\n",
    "<i>Price</i> is the predictor (y) variable, it is included in the train dataset and must be predicted for test \n",
    "\n",
    "\n",
    "### Objectives \n",
    "\n",
    "The objective of this project is to predict the price of a flight when a set of relevant flight details are provided. This kind of model can be used to predict the fair price of a flight. The flight details has information related to flight timings, source and destination details, route details, stops in between etc.\n",
    "\n",
    "The dataset consists of about four months of information about various flights and their respective prices. You are to analyze the data and provide the below:\n",
    "1. Identify the Independent variables which are significant\n",
    "\n",
    "2. Build predictive models to predict flight prices. Split the data into training and test sets. Build supervised models on training data and test it on the test. Use RMSE as the metric for model evaluation.\n",
    "\n",
    "3. Use the best model to predict flight prices for which we do not have the flight prices. This is the second dataset attached. (It has 2500 observations for which flight prices have to be predicted)"
   ]
  },
  {
   "cell_type": "markdown",
   "metadata": {},
   "source": [
    "## Data Import & Clean Up "
   ]
  },
  {
   "cell_type": "code",
   "execution_count": 1,
   "metadata": {},
   "outputs": [],
   "source": [
    "import numpy as np\n",
    "import pandas as pd\n",
    "import matplotlib.pyplot as plt\n",
    "import seaborn as sb\n",
    "import os"
   ]
  },
  {
   "cell_type": "code",
   "execution_count": 2,
   "metadata": {},
   "outputs": [],
   "source": [
    "os.chdir(\"C:/Users/apook/Desktop/HPE/Misc/Data Analytics/Projects/Project10-CAPSTONE/8. Flight Price Prediction\")"
   ]
  },
  {
   "cell_type": "code",
   "execution_count": 3,
   "metadata": {},
   "outputs": [],
   "source": [
    "train = pd.read_excel(\"FlightPrice_train.xlsx\")"
   ]
  },
  {
   "cell_type": "code",
   "execution_count": 4,
   "metadata": {},
   "outputs": [],
   "source": [
    "test = pd.read_excel(\"FlightPrice_test.xlsx\")"
   ]
  },
  {
   "cell_type": "markdown",
   "metadata": {},
   "source": [
    "### Train Data Clean Up"
   ]
  },
  {
   "cell_type": "code",
   "execution_count": 5,
   "metadata": {},
   "outputs": [
    {
     "data": {
      "text/plain": [
       "(10683, 11)"
      ]
     },
     "execution_count": 5,
     "metadata": {},
     "output_type": "execute_result"
    }
   ],
   "source": [
    "train.shape"
   ]
  },
  {
   "cell_type": "code",
   "execution_count": 6,
   "metadata": {
    "scrolled": true
   },
   "outputs": [
    {
     "data": {
      "text/plain": [
       "Airline            0\n",
       "Date_of_Journey    0\n",
       "Source             0\n",
       "Destination        0\n",
       "Route              0\n",
       "Dep_Time           0\n",
       "Arrival_Time       0\n",
       "Duration           0\n",
       "Total_Stops        0\n",
       "Additional_Info    0\n",
       "Price              0\n",
       "dtype: int64"
      ]
     },
     "execution_count": 6,
     "metadata": {},
     "output_type": "execute_result"
    }
   ],
   "source": [
    "# delete rows with #N/A values\n",
    "\n",
    "train.dropna(inplace= True)\n",
    "train.isnull().sum()"
   ]
  },
  {
   "cell_type": "code",
   "execution_count": 7,
   "metadata": {
    "scrolled": true
   },
   "outputs": [
    {
     "data": {
      "text/html": [
       "<div>\n",
       "<style scoped>\n",
       "    .dataframe tbody tr th:only-of-type {\n",
       "        vertical-align: middle;\n",
       "    }\n",
       "\n",
       "    .dataframe tbody tr th {\n",
       "        vertical-align: top;\n",
       "    }\n",
       "\n",
       "    .dataframe thead th {\n",
       "        text-align: right;\n",
       "    }\n",
       "</style>\n",
       "<table border=\"1\" class=\"dataframe\">\n",
       "  <thead>\n",
       "    <tr style=\"text-align: right;\">\n",
       "      <th></th>\n",
       "      <th>Airline</th>\n",
       "      <th>Date_of_Journey</th>\n",
       "      <th>Source</th>\n",
       "      <th>Destination</th>\n",
       "      <th>Route</th>\n",
       "      <th>Dep_Time</th>\n",
       "      <th>Arrival_Time</th>\n",
       "      <th>Duration</th>\n",
       "      <th>Total_Stops</th>\n",
       "      <th>Additional_Info</th>\n",
       "      <th>Price</th>\n",
       "    </tr>\n",
       "  </thead>\n",
       "  <tbody>\n",
       "    <tr>\n",
       "      <th>683</th>\n",
       "      <td>Jet Airways</td>\n",
       "      <td>1/06/2019</td>\n",
       "      <td>Delhi</td>\n",
       "      <td>Cochin</td>\n",
       "      <td>DEL → NAG → BOM → COK</td>\n",
       "      <td>14:35</td>\n",
       "      <td>04:25 02 Jun</td>\n",
       "      <td>13h 50m</td>\n",
       "      <td>2 stops</td>\n",
       "      <td>No info</td>\n",
       "      <td>13376</td>\n",
       "    </tr>\n",
       "    <tr>\n",
       "      <th>1061</th>\n",
       "      <td>Air India</td>\n",
       "      <td>21/05/2019</td>\n",
       "      <td>Delhi</td>\n",
       "      <td>Cochin</td>\n",
       "      <td>DEL → GOI → BOM → COK</td>\n",
       "      <td>22:00</td>\n",
       "      <td>19:15 22 May</td>\n",
       "      <td>21h 15m</td>\n",
       "      <td>2 stops</td>\n",
       "      <td>No info</td>\n",
       "      <td>10231</td>\n",
       "    </tr>\n",
       "    <tr>\n",
       "      <th>1348</th>\n",
       "      <td>Air India</td>\n",
       "      <td>18/05/2019</td>\n",
       "      <td>Delhi</td>\n",
       "      <td>Cochin</td>\n",
       "      <td>DEL → HYD → BOM → COK</td>\n",
       "      <td>17:15</td>\n",
       "      <td>19:15 19 May</td>\n",
       "      <td>26h</td>\n",
       "      <td>2 stops</td>\n",
       "      <td>No info</td>\n",
       "      <td>12392</td>\n",
       "    </tr>\n",
       "    <tr>\n",
       "      <th>1418</th>\n",
       "      <td>Jet Airways</td>\n",
       "      <td>6/06/2019</td>\n",
       "      <td>Delhi</td>\n",
       "      <td>Cochin</td>\n",
       "      <td>DEL → JAI → BOM → COK</td>\n",
       "      <td>05:30</td>\n",
       "      <td>04:25 07 Jun</td>\n",
       "      <td>22h 55m</td>\n",
       "      <td>2 stops</td>\n",
       "      <td>In-flight meal not included</td>\n",
       "      <td>10368</td>\n",
       "    </tr>\n",
       "    <tr>\n",
       "      <th>1674</th>\n",
       "      <td>IndiGo</td>\n",
       "      <td>24/03/2019</td>\n",
       "      <td>Banglore</td>\n",
       "      <td>New Delhi</td>\n",
       "      <td>BLR → DEL</td>\n",
       "      <td>18:25</td>\n",
       "      <td>21:20</td>\n",
       "      <td>2h 55m</td>\n",
       "      <td>non-stop</td>\n",
       "      <td>No info</td>\n",
       "      <td>7303</td>\n",
       "    </tr>\n",
       "    <tr>\n",
       "      <th>...</th>\n",
       "      <td>...</td>\n",
       "      <td>...</td>\n",
       "      <td>...</td>\n",
       "      <td>...</td>\n",
       "      <td>...</td>\n",
       "      <td>...</td>\n",
       "      <td>...</td>\n",
       "      <td>...</td>\n",
       "      <td>...</td>\n",
       "      <td>...</td>\n",
       "      <td>...</td>\n",
       "    </tr>\n",
       "    <tr>\n",
       "      <th>10594</th>\n",
       "      <td>Jet Airways</td>\n",
       "      <td>27/06/2019</td>\n",
       "      <td>Delhi</td>\n",
       "      <td>Cochin</td>\n",
       "      <td>DEL → AMD → BOM → COK</td>\n",
       "      <td>23:05</td>\n",
       "      <td>12:35 28 Jun</td>\n",
       "      <td>13h 30m</td>\n",
       "      <td>2 stops</td>\n",
       "      <td>No info</td>\n",
       "      <td>12819</td>\n",
       "    </tr>\n",
       "    <tr>\n",
       "      <th>10616</th>\n",
       "      <td>Jet Airways</td>\n",
       "      <td>1/06/2019</td>\n",
       "      <td>Delhi</td>\n",
       "      <td>Cochin</td>\n",
       "      <td>DEL → JAI → BOM → COK</td>\n",
       "      <td>09:40</td>\n",
       "      <td>12:35 02 Jun</td>\n",
       "      <td>26h 55m</td>\n",
       "      <td>2 stops</td>\n",
       "      <td>No info</td>\n",
       "      <td>13014</td>\n",
       "    </tr>\n",
       "    <tr>\n",
       "      <th>10634</th>\n",
       "      <td>Jet Airways</td>\n",
       "      <td>6/06/2019</td>\n",
       "      <td>Delhi</td>\n",
       "      <td>Cochin</td>\n",
       "      <td>DEL → JAI → BOM → COK</td>\n",
       "      <td>09:40</td>\n",
       "      <td>12:35 07 Jun</td>\n",
       "      <td>26h 55m</td>\n",
       "      <td>2 stops</td>\n",
       "      <td>In-flight meal not included</td>\n",
       "      <td>11733</td>\n",
       "    </tr>\n",
       "    <tr>\n",
       "      <th>10672</th>\n",
       "      <td>Jet Airways</td>\n",
       "      <td>27/06/2019</td>\n",
       "      <td>Delhi</td>\n",
       "      <td>Cochin</td>\n",
       "      <td>DEL → AMD → BOM → COK</td>\n",
       "      <td>23:05</td>\n",
       "      <td>19:00 28 Jun</td>\n",
       "      <td>19h 55m</td>\n",
       "      <td>2 stops</td>\n",
       "      <td>In-flight meal not included</td>\n",
       "      <td>11150</td>\n",
       "    </tr>\n",
       "    <tr>\n",
       "      <th>10673</th>\n",
       "      <td>Jet Airways</td>\n",
       "      <td>27/05/2019</td>\n",
       "      <td>Delhi</td>\n",
       "      <td>Cochin</td>\n",
       "      <td>DEL → AMD → BOM → COK</td>\n",
       "      <td>13:25</td>\n",
       "      <td>04:25 28 May</td>\n",
       "      <td>15h</td>\n",
       "      <td>2 stops</td>\n",
       "      <td>No info</td>\n",
       "      <td>16704</td>\n",
       "    </tr>\n",
       "  </tbody>\n",
       "</table>\n",
       "<p>220 rows × 11 columns</p>\n",
       "</div>"
      ],
      "text/plain": [
       "           Airline Date_of_Journey    Source Destination  \\\n",
       "683    Jet Airways       1/06/2019     Delhi      Cochin   \n",
       "1061     Air India      21/05/2019     Delhi      Cochin   \n",
       "1348     Air India      18/05/2019     Delhi      Cochin   \n",
       "1418   Jet Airways       6/06/2019     Delhi      Cochin   \n",
       "1674        IndiGo      24/03/2019  Banglore   New Delhi   \n",
       "...            ...             ...       ...         ...   \n",
       "10594  Jet Airways      27/06/2019     Delhi      Cochin   \n",
       "10616  Jet Airways       1/06/2019     Delhi      Cochin   \n",
       "10634  Jet Airways       6/06/2019     Delhi      Cochin   \n",
       "10672  Jet Airways      27/06/2019     Delhi      Cochin   \n",
       "10673  Jet Airways      27/05/2019     Delhi      Cochin   \n",
       "\n",
       "                       Route Dep_Time  Arrival_Time Duration Total_Stops  \\\n",
       "683    DEL → NAG → BOM → COK    14:35  04:25 02 Jun  13h 50m     2 stops   \n",
       "1061   DEL → GOI → BOM → COK    22:00  19:15 22 May  21h 15m     2 stops   \n",
       "1348   DEL → HYD → BOM → COK    17:15  19:15 19 May      26h     2 stops   \n",
       "1418   DEL → JAI → BOM → COK    05:30  04:25 07 Jun  22h 55m     2 stops   \n",
       "1674               BLR → DEL    18:25         21:20   2h 55m    non-stop   \n",
       "...                      ...      ...           ...      ...         ...   \n",
       "10594  DEL → AMD → BOM → COK    23:05  12:35 28 Jun  13h 30m     2 stops   \n",
       "10616  DEL → JAI → BOM → COK    09:40  12:35 02 Jun  26h 55m     2 stops   \n",
       "10634  DEL → JAI → BOM → COK    09:40  12:35 07 Jun  26h 55m     2 stops   \n",
       "10672  DEL → AMD → BOM → COK    23:05  19:00 28 Jun  19h 55m     2 stops   \n",
       "10673  DEL → AMD → BOM → COK    13:25  04:25 28 May      15h     2 stops   \n",
       "\n",
       "                   Additional_Info  Price  \n",
       "683                        No info  13376  \n",
       "1061                       No info  10231  \n",
       "1348                       No info  12392  \n",
       "1418   In-flight meal not included  10368  \n",
       "1674                       No info   7303  \n",
       "...                            ...    ...  \n",
       "10594                      No info  12819  \n",
       "10616                      No info  13014  \n",
       "10634  In-flight meal not included  11733  \n",
       "10672  In-flight meal not included  11150  \n",
       "10673                      No info  16704  \n",
       "\n",
       "[220 rows x 11 columns]"
      ]
     },
     "execution_count": 7,
     "metadata": {},
     "output_type": "execute_result"
    }
   ],
   "source": [
    "# Delete Duplicates\n",
    "\n",
    "train[train.duplicated()]"
   ]
  },
  {
   "cell_type": "code",
   "execution_count": 8,
   "metadata": {
    "scrolled": true
   },
   "outputs": [
    {
     "data": {
      "text/plain": [
       "(10462, 11)"
      ]
     },
     "execution_count": 8,
     "metadata": {},
     "output_type": "execute_result"
    }
   ],
   "source": [
    "train.drop_duplicates(keep=\"first\", inplace=True)\n",
    "train.shape"
   ]
  },
  {
   "cell_type": "markdown",
   "metadata": {},
   "source": [
    "Since the system can't read strings like date of journey column, create 3 new columns for day, month and year of journey"
   ]
  },
  {
   "cell_type": "code",
   "execution_count": 9,
   "metadata": {},
   "outputs": [],
   "source": [
    "train[\"Date_of_Journey\"] = pd.to_datetime(train[\"Date_of_Journey\"], format = \"%d/%m/%Y\")\n",
    "\n",
    "train[\"journey_day\"] = train[\"Date_of_Journey\"].dt.day_name()\n",
    "\n",
    "train[\"journey_date\"] = pd.to_datetime(train[\"Date_of_Journey\"], format = \"%d/%m/%y\").dt.day\n",
    "train[\"journey_month\"] = pd.to_datetime(train[\"Date_of_Journey\"], format = \"%d/%m/%y\").dt.month\n",
    "train[\"journey_year\"] = pd.to_datetime(train[\"Date_of_Journey\"], format = \"%d/%m/%y\").dt.year"
   ]
  },
  {
   "cell_type": "markdown",
   "metadata": {},
   "source": [
    "Prepping the Departure time, Arrival time and Duration as Hour and Minute. It is easier for the system to work with"
   ]
  },
  {
   "cell_type": "code",
   "execution_count": 10,
   "metadata": {},
   "outputs": [],
   "source": [
    "# Departure Time\n",
    "train[\"dep_hour\"] = pd.to_datetime(train[\"Dep_Time\"]).dt.hour\n",
    "train[\"dep_min\"] = pd.to_datetime(train[\"Dep_Time\"]).dt.minute\n",
    "\n",
    "# Arrival Time\n",
    "train[\"arr_hour\"] = pd.to_datetime(train[\"Arrival_Time\"]).dt.hour\n",
    "train[\"arr_min\"] = pd.to_datetime(train[\"Arrival_Time\"]).dt.minute\n",
    "\n",
    "train.drop([\"Date_of_Journey\", \"Dep_Time\", \"Arrival_Time\"], axis = 1, inplace= True)"
   ]
  },
  {
   "cell_type": "code",
   "execution_count": 11,
   "metadata": {},
   "outputs": [],
   "source": [
    "duration = list(train[\"Duration\"])\n",
    "\n",
    "for i in range(len(duration)):\n",
    "    if len(duration[i].split()) != 2:    # Check if duration contains only hour or mins\n",
    "        if \"h\" in duration[i]:\n",
    "            duration[i] = duration[i].strip() + \" 0m\"   # Adds 0 minute\n",
    "        else:\n",
    "            duration[i] = \"0h \" + duration[i] # if it is a short flight, then it adds 0 hours\n",
    "            \n",
    "dur_hour=[]\n",
    "dur_min=[]\n",
    "       \n",
    "for i in range(len(duration)):\n",
    "       dur_hour.append(int(duration[i].split(sep = \"h\")[0]))\n",
    "       dur_min.append(int(duration[i].split(sep = \"m\")[0].split()[-1]))\n",
    "\n",
    "train[\"duration_hour\"] = dur_hour\n",
    "train[\"duration_minute\"] = dur_min"
   ]
  },
  {
   "cell_type": "markdown",
   "metadata": {},
   "source": [
    "Since the information about the stops are available in the column called \"Total_Stops\", delete Route and Departure columns"
   ]
  },
  {
   "cell_type": "code",
   "execution_count": 12,
   "metadata": {},
   "outputs": [],
   "source": [
    "train.drop([\"Route\", \"Duration\", \"journey_year\"], axis = 1, inplace= True)"
   ]
  },
  {
   "cell_type": "code",
   "execution_count": 13,
   "metadata": {
    "scrolled": true
   },
   "outputs": [
    {
     "data": {
      "text/html": [
       "<div>\n",
       "<style scoped>\n",
       "    .dataframe tbody tr th:only-of-type {\n",
       "        vertical-align: middle;\n",
       "    }\n",
       "\n",
       "    .dataframe tbody tr th {\n",
       "        vertical-align: top;\n",
       "    }\n",
       "\n",
       "    .dataframe thead th {\n",
       "        text-align: right;\n",
       "    }\n",
       "</style>\n",
       "<table border=\"1\" class=\"dataframe\">\n",
       "  <thead>\n",
       "    <tr style=\"text-align: right;\">\n",
       "      <th></th>\n",
       "      <th>Airline</th>\n",
       "      <th>Source</th>\n",
       "      <th>Destination</th>\n",
       "      <th>Total_Stops</th>\n",
       "      <th>Additional_Info</th>\n",
       "      <th>Price</th>\n",
       "      <th>journey_day</th>\n",
       "      <th>journey_date</th>\n",
       "      <th>journey_month</th>\n",
       "      <th>dep_hour</th>\n",
       "      <th>dep_min</th>\n",
       "      <th>arr_hour</th>\n",
       "      <th>arr_min</th>\n",
       "      <th>duration_hour</th>\n",
       "      <th>duration_minute</th>\n",
       "    </tr>\n",
       "  </thead>\n",
       "  <tbody>\n",
       "    <tr>\n",
       "      <th>0</th>\n",
       "      <td>IndiGo</td>\n",
       "      <td>Banglore</td>\n",
       "      <td>New Delhi</td>\n",
       "      <td>non-stop</td>\n",
       "      <td>No info</td>\n",
       "      <td>3897</td>\n",
       "      <td>Sunday</td>\n",
       "      <td>24</td>\n",
       "      <td>3</td>\n",
       "      <td>22</td>\n",
       "      <td>20</td>\n",
       "      <td>1</td>\n",
       "      <td>10</td>\n",
       "      <td>2</td>\n",
       "      <td>50</td>\n",
       "    </tr>\n",
       "    <tr>\n",
       "      <th>1</th>\n",
       "      <td>Air India</td>\n",
       "      <td>Kolkata</td>\n",
       "      <td>Banglore</td>\n",
       "      <td>2 stops</td>\n",
       "      <td>No info</td>\n",
       "      <td>7662</td>\n",
       "      <td>Wednesday</td>\n",
       "      <td>1</td>\n",
       "      <td>5</td>\n",
       "      <td>5</td>\n",
       "      <td>50</td>\n",
       "      <td>13</td>\n",
       "      <td>15</td>\n",
       "      <td>7</td>\n",
       "      <td>25</td>\n",
       "    </tr>\n",
       "    <tr>\n",
       "      <th>2</th>\n",
       "      <td>Jet Airways</td>\n",
       "      <td>Delhi</td>\n",
       "      <td>Cochin</td>\n",
       "      <td>2 stops</td>\n",
       "      <td>No info</td>\n",
       "      <td>13882</td>\n",
       "      <td>Sunday</td>\n",
       "      <td>9</td>\n",
       "      <td>6</td>\n",
       "      <td>9</td>\n",
       "      <td>25</td>\n",
       "      <td>4</td>\n",
       "      <td>25</td>\n",
       "      <td>19</td>\n",
       "      <td>0</td>\n",
       "    </tr>\n",
       "    <tr>\n",
       "      <th>3</th>\n",
       "      <td>IndiGo</td>\n",
       "      <td>Kolkata</td>\n",
       "      <td>Banglore</td>\n",
       "      <td>1 stop</td>\n",
       "      <td>No info</td>\n",
       "      <td>6218</td>\n",
       "      <td>Sunday</td>\n",
       "      <td>12</td>\n",
       "      <td>5</td>\n",
       "      <td>18</td>\n",
       "      <td>5</td>\n",
       "      <td>23</td>\n",
       "      <td>30</td>\n",
       "      <td>5</td>\n",
       "      <td>25</td>\n",
       "    </tr>\n",
       "    <tr>\n",
       "      <th>4</th>\n",
       "      <td>IndiGo</td>\n",
       "      <td>Banglore</td>\n",
       "      <td>New Delhi</td>\n",
       "      <td>1 stop</td>\n",
       "      <td>No info</td>\n",
       "      <td>13302</td>\n",
       "      <td>Friday</td>\n",
       "      <td>1</td>\n",
       "      <td>3</td>\n",
       "      <td>16</td>\n",
       "      <td>50</td>\n",
       "      <td>21</td>\n",
       "      <td>35</td>\n",
       "      <td>4</td>\n",
       "      <td>45</td>\n",
       "    </tr>\n",
       "  </tbody>\n",
       "</table>\n",
       "</div>"
      ],
      "text/plain": [
       "       Airline    Source Destination Total_Stops Additional_Info  Price  \\\n",
       "0       IndiGo  Banglore   New Delhi    non-stop         No info   3897   \n",
       "1    Air India   Kolkata    Banglore     2 stops         No info   7662   \n",
       "2  Jet Airways     Delhi      Cochin     2 stops         No info  13882   \n",
       "3       IndiGo   Kolkata    Banglore      1 stop         No info   6218   \n",
       "4       IndiGo  Banglore   New Delhi      1 stop         No info  13302   \n",
       "\n",
       "  journey_day  journey_date  journey_month  dep_hour  dep_min  arr_hour  \\\n",
       "0      Sunday            24              3        22       20         1   \n",
       "1   Wednesday             1              5         5       50        13   \n",
       "2      Sunday             9              6         9       25         4   \n",
       "3      Sunday            12              5        18        5        23   \n",
       "4      Friday             1              3        16       50        21   \n",
       "\n",
       "   arr_min  duration_hour  duration_minute  \n",
       "0       10              2               50  \n",
       "1       15              7               25  \n",
       "2       25             19                0  \n",
       "3       30              5               25  \n",
       "4       35              4               45  "
      ]
     },
     "execution_count": 13,
     "metadata": {},
     "output_type": "execute_result"
    }
   ],
   "source": [
    "train.head()"
   ]
  },
  {
   "cell_type": "markdown",
   "metadata": {},
   "source": [
    "### Test Data Clean Up"
   ]
  },
  {
   "cell_type": "code",
   "execution_count": 14,
   "metadata": {},
   "outputs": [
    {
     "data": {
      "text/plain": [
       "(2671, 10)"
      ]
     },
     "execution_count": 14,
     "metadata": {},
     "output_type": "execute_result"
    }
   ],
   "source": [
    "test.shape"
   ]
  },
  {
   "cell_type": "code",
   "execution_count": 15,
   "metadata": {},
   "outputs": [
    {
     "data": {
      "text/plain": [
       "Airline            0\n",
       "Date_of_Journey    0\n",
       "Source             0\n",
       "Destination        0\n",
       "Route              0\n",
       "Dep_Time           0\n",
       "Arrival_Time       0\n",
       "Duration           0\n",
       "Total_Stops        0\n",
       "Additional_Info    0\n",
       "dtype: int64"
      ]
     },
     "execution_count": 15,
     "metadata": {},
     "output_type": "execute_result"
    }
   ],
   "source": [
    "# delete rows with #N/A values\n",
    "\n",
    "test.dropna(inplace= True)\n",
    "test.isnull().sum()"
   ]
  },
  {
   "cell_type": "code",
   "execution_count": 16,
   "metadata": {},
   "outputs": [],
   "source": [
    "test[\"Date_of_Journey\"] = pd.to_datetime(test[\"Date_of_Journey\"], format = \"%d/%m/%Y\")\n",
    "\n",
    "test[\"journey_day\"] = test[\"Date_of_Journey\"].dt.day_name()\n",
    "\n",
    "test[\"journey_date\"] = pd.to_datetime(test[\"Date_of_Journey\"], format = \"%d/%m/%y\").dt.day\n",
    "test[\"journey_month\"] = pd.to_datetime(test[\"Date_of_Journey\"], format = \"%d/%m/%y\").dt.month\n",
    "test[\"journey_year\"] = pd.to_datetime(test[\"Date_of_Journey\"], format = \"%d/%m/%y\").dt.year"
   ]
  },
  {
   "cell_type": "code",
   "execution_count": 17,
   "metadata": {},
   "outputs": [],
   "source": [
    "# Departure Time\n",
    "test[\"dep_hour\"] = pd.to_datetime(test[\"Dep_Time\"]).dt.hour\n",
    "test[\"dep_min\"] = pd.to_datetime(test[\"Dep_Time\"]).dt.minute\n",
    "\n",
    "# Arrival Time\n",
    "test[\"arr_hour\"] = pd.to_datetime(test[\"Arrival_Time\"]).dt.hour\n",
    "test[\"arr_min\"] = pd.to_datetime(test[\"Arrival_Time\"]).dt.minute\n",
    "\n",
    "test.drop([\"Date_of_Journey\", \"Dep_Time\", \"Arrival_Time\"], axis = 1, inplace= True)"
   ]
  },
  {
   "cell_type": "code",
   "execution_count": 18,
   "metadata": {},
   "outputs": [],
   "source": [
    "duration = list(test[\"Duration\"])\n",
    "\n",
    "for i in range(len(duration)):\n",
    "    if len(duration[i].split()) != 2:    # Check if duration contains only hour or mins\n",
    "        if \"h\" in duration[i]:\n",
    "            duration[i] = duration[i].strip() + \" 0m\"   # Adds 0 minute\n",
    "        else:\n",
    "            duration[i] = \"0h \" + duration[i] # if it is a short flight, then it adds 0 hours\n",
    "            \n",
    "dur_hour=[]\n",
    "dur_min=[]\n",
    "       \n",
    "for i in range(len(duration)):\n",
    "       dur_hour.append(int(duration[i].split(sep = \"h\")[0]))\n",
    "       dur_min.append(int(duration[i].split(sep = \"m\")[0].split()[-1]))\n",
    "\n",
    "test[\"duration_hour\"] = dur_hour\n",
    "test[\"duration_minute\"] = dur_min"
   ]
  },
  {
   "cell_type": "code",
   "execution_count": 19,
   "metadata": {},
   "outputs": [],
   "source": [
    "test.drop([\"Route\", \"Duration\", \"journey_year\"], axis = 1, inplace= True)"
   ]
  },
  {
   "cell_type": "code",
   "execution_count": 20,
   "metadata": {},
   "outputs": [
    {
     "data": {
      "text/html": [
       "<div>\n",
       "<style scoped>\n",
       "    .dataframe tbody tr th:only-of-type {\n",
       "        vertical-align: middle;\n",
       "    }\n",
       "\n",
       "    .dataframe tbody tr th {\n",
       "        vertical-align: top;\n",
       "    }\n",
       "\n",
       "    .dataframe thead th {\n",
       "        text-align: right;\n",
       "    }\n",
       "</style>\n",
       "<table border=\"1\" class=\"dataframe\">\n",
       "  <thead>\n",
       "    <tr style=\"text-align: right;\">\n",
       "      <th></th>\n",
       "      <th>Airline</th>\n",
       "      <th>Source</th>\n",
       "      <th>Destination</th>\n",
       "      <th>Total_Stops</th>\n",
       "      <th>Additional_Info</th>\n",
       "      <th>journey_day</th>\n",
       "      <th>journey_date</th>\n",
       "      <th>journey_month</th>\n",
       "      <th>dep_hour</th>\n",
       "      <th>dep_min</th>\n",
       "      <th>arr_hour</th>\n",
       "      <th>arr_min</th>\n",
       "      <th>duration_hour</th>\n",
       "      <th>duration_minute</th>\n",
       "    </tr>\n",
       "  </thead>\n",
       "  <tbody>\n",
       "    <tr>\n",
       "      <th>0</th>\n",
       "      <td>Jet Airways</td>\n",
       "      <td>Delhi</td>\n",
       "      <td>Cochin</td>\n",
       "      <td>1 stop</td>\n",
       "      <td>No info</td>\n",
       "      <td>Thursday</td>\n",
       "      <td>6</td>\n",
       "      <td>6</td>\n",
       "      <td>17</td>\n",
       "      <td>30</td>\n",
       "      <td>4</td>\n",
       "      <td>25</td>\n",
       "      <td>10</td>\n",
       "      <td>55</td>\n",
       "    </tr>\n",
       "    <tr>\n",
       "      <th>1</th>\n",
       "      <td>IndiGo</td>\n",
       "      <td>Kolkata</td>\n",
       "      <td>Banglore</td>\n",
       "      <td>1 stop</td>\n",
       "      <td>No info</td>\n",
       "      <td>Sunday</td>\n",
       "      <td>12</td>\n",
       "      <td>5</td>\n",
       "      <td>6</td>\n",
       "      <td>20</td>\n",
       "      <td>10</td>\n",
       "      <td>20</td>\n",
       "      <td>4</td>\n",
       "      <td>0</td>\n",
       "    </tr>\n",
       "    <tr>\n",
       "      <th>2</th>\n",
       "      <td>Jet Airways</td>\n",
       "      <td>Delhi</td>\n",
       "      <td>Cochin</td>\n",
       "      <td>1 stop</td>\n",
       "      <td>In-flight meal not included</td>\n",
       "      <td>Tuesday</td>\n",
       "      <td>21</td>\n",
       "      <td>5</td>\n",
       "      <td>19</td>\n",
       "      <td>15</td>\n",
       "      <td>19</td>\n",
       "      <td>0</td>\n",
       "      <td>23</td>\n",
       "      <td>45</td>\n",
       "    </tr>\n",
       "    <tr>\n",
       "      <th>3</th>\n",
       "      <td>Multiple carriers</td>\n",
       "      <td>Delhi</td>\n",
       "      <td>Cochin</td>\n",
       "      <td>1 stop</td>\n",
       "      <td>No info</td>\n",
       "      <td>Tuesday</td>\n",
       "      <td>21</td>\n",
       "      <td>5</td>\n",
       "      <td>8</td>\n",
       "      <td>0</td>\n",
       "      <td>21</td>\n",
       "      <td>0</td>\n",
       "      <td>13</td>\n",
       "      <td>0</td>\n",
       "    </tr>\n",
       "    <tr>\n",
       "      <th>4</th>\n",
       "      <td>Air Asia</td>\n",
       "      <td>Banglore</td>\n",
       "      <td>Delhi</td>\n",
       "      <td>non-stop</td>\n",
       "      <td>No info</td>\n",
       "      <td>Monday</td>\n",
       "      <td>24</td>\n",
       "      <td>6</td>\n",
       "      <td>23</td>\n",
       "      <td>55</td>\n",
       "      <td>2</td>\n",
       "      <td>45</td>\n",
       "      <td>2</td>\n",
       "      <td>50</td>\n",
       "    </tr>\n",
       "  </tbody>\n",
       "</table>\n",
       "</div>"
      ],
      "text/plain": [
       "             Airline    Source Destination Total_Stops  \\\n",
       "0        Jet Airways     Delhi      Cochin      1 stop   \n",
       "1             IndiGo   Kolkata    Banglore      1 stop   \n",
       "2        Jet Airways     Delhi      Cochin      1 stop   \n",
       "3  Multiple carriers     Delhi      Cochin      1 stop   \n",
       "4           Air Asia  Banglore       Delhi    non-stop   \n",
       "\n",
       "               Additional_Info journey_day  journey_date  journey_month  \\\n",
       "0                      No info    Thursday             6              6   \n",
       "1                      No info      Sunday            12              5   \n",
       "2  In-flight meal not included     Tuesday            21              5   \n",
       "3                      No info     Tuesday            21              5   \n",
       "4                      No info      Monday            24              6   \n",
       "\n",
       "   dep_hour  dep_min  arr_hour  arr_min  duration_hour  duration_minute  \n",
       "0        17       30         4       25             10               55  \n",
       "1         6       20        10       20              4                0  \n",
       "2        19       15        19        0             23               45  \n",
       "3         8        0        21        0             13                0  \n",
       "4        23       55         2       45              2               50  "
      ]
     },
     "execution_count": 20,
     "metadata": {},
     "output_type": "execute_result"
    }
   ],
   "source": [
    "test.head()"
   ]
  },
  {
   "cell_type": "markdown",
   "metadata": {},
   "source": [
    "## Exploratory Data Analysis\n",
    "\n",
    "### Train Data EDA\n",
    "\n",
    "#### <u>Univariate Analysis</u>\n",
    "\n",
    "##### Continous Variables"
   ]
  },
  {
   "cell_type": "code",
   "execution_count": 21,
   "metadata": {},
   "outputs": [
    {
     "data": {
      "text/plain": [
       "array([[<matplotlib.axes._subplots.AxesSubplot object at 0x000002455C2D2A30>,\n",
       "        <matplotlib.axes._subplots.AxesSubplot object at 0x000002455C318F10>,\n",
       "        <matplotlib.axes._subplots.AxesSubplot object at 0x000002455C3443A0>],\n",
       "       [<matplotlib.axes._subplots.AxesSubplot object at 0x000002455CAB4820>,\n",
       "        <matplotlib.axes._subplots.AxesSubplot object at 0x000002455CAD3C70>,\n",
       "        <matplotlib.axes._subplots.AxesSubplot object at 0x000002455CAF5160>],\n",
       "       [<matplotlib.axes._subplots.AxesSubplot object at 0x000002455CAFE130>,\n",
       "        <matplotlib.axes._subplots.AxesSubplot object at 0x000002455C2E9AC0>,\n",
       "        <matplotlib.axes._subplots.AxesSubplot object at 0x0000024556F519D0>]],\n",
       "      dtype=object)"
      ]
     },
     "execution_count": 21,
     "metadata": {},
     "output_type": "execute_result"
    },
    {
     "data": {
      "image/png": "[encoded data removed]",
      "text/plain": [
       "<Figure size 1152x1440 with 9 Axes>"
      ]
     },
     "metadata": {
      "needs_background": "light"
     },
     "output_type": "display_data"
    }
   ],
   "source": [
    "# Understanding numeric Distributions. \n",
    "train_num = train.select_dtypes(include = [\"float64\", \"int64\"])\n",
    "train_num.head()\n",
    "train_num.hist(figsize=(16, 20), bins=50, xlabelsize=8, ylabelsize=8)"
   ]
  },
  {
   "cell_type": "markdown",
   "metadata": {},
   "source": [
    "The average flight price is around Rs 10,000.\n",
    "\n",
    "Most flights leave at 7 AM or 9 AM and most flights arrive at 8 PM. \n",
    "\n",
    "The average duration of the flights looks to be around 2 hours"
   ]
  },
  {
   "cell_type": "markdown",
   "metadata": {},
   "source": [
    "#### Categorical Variables"
   ]
  },
  {
   "cell_type": "code",
   "execution_count": 22,
   "metadata": {
    "scrolled": true
   },
   "outputs": [
    {
     "data": {
      "text/plain": [
       "[Text(0, 0, 'IndiGo'),\n",
       " Text(0, 0, 'Air India'),\n",
       " Text(0, 0, 'Jet Airways'),\n",
       " Text(0, 0, 'SpiceJet'),\n",
       " Text(0, 0, 'Multiple carriers'),\n",
       " Text(0, 0, 'GoAir'),\n",
       " Text(0, 0, 'Vistara'),\n",
       " Text(0, 0, 'Air Asia'),\n",
       " Text(0, 0, 'Vistara Premium economy'),\n",
       " Text(0, 0, 'Jet Airways Business'),\n",
       " Text(0, 0, 'Multiple carriers Premium economy'),\n",
       " Text(0, 0, 'Trujet')]"
      ]
     },
     "execution_count": 22,
     "metadata": {},
     "output_type": "execute_result"
    },
    {
     "data": {
      "image/png": "[encoded data removed]",
      "text/plain": [
       "<Figure size 432x288 with 1 Axes>"
      ]
     },
     "metadata": {
      "needs_background": "light"
     },
     "output_type": "display_data"
    }
   ],
   "source": [
    "chart = sb.countplot(x = \"Airline\", data = train)\n",
    "chart.set_xticklabels(chart.get_xticklabels(), rotation=90)"
   ]
  },
  {
   "cell_type": "markdown",
   "metadata": {},
   "source": [
    "Jet Airways economy class is the most popular tickets"
   ]
  },
  {
   "cell_type": "code",
   "execution_count": 23,
   "metadata": {
    "scrolled": true
   },
   "outputs": [
    {
     "data": {
      "text/plain": [
       "[Text(0, 0, 'Banglore'),\n",
       " Text(0, 0, 'Kolkata'),\n",
       " Text(0, 0, 'Delhi'),\n",
       " Text(0, 0, 'Chennai'),\n",
       " Text(0, 0, 'Mumbai')]"
      ]
     },
     "execution_count": 23,
     "metadata": {},
     "output_type": "execute_result"
    },
    {
     "data": {
      "image/png": "[encoded data removed]",
      "text/plain": [
       "<Figure size 432x288 with 1 Axes>"
      ]
     },
     "metadata": {
      "needs_background": "light"
     },
     "output_type": "display_data"
    }
   ],
   "source": [
    "chart = sb.countplot(x = \"Source\", data = train)\n",
    "chart.set_xticklabels(chart.get_xticklabels(), rotation=90)"
   ]
  },
  {
   "cell_type": "markdown",
   "metadata": {},
   "source": [
    "Delhi has the most number of departures"
   ]
  },
  {
   "cell_type": "code",
   "execution_count": 24,
   "metadata": {
    "scrolled": true
   },
   "outputs": [
    {
     "data": {
      "text/plain": [
       "[Text(0, 0, 'New Delhi'),\n",
       " Text(0, 0, 'Banglore'),\n",
       " Text(0, 0, 'Cochin'),\n",
       " Text(0, 0, 'Kolkata'),\n",
       " Text(0, 0, 'Delhi'),\n",
       " Text(0, 0, 'Hyderabad')]"
      ]
     },
     "execution_count": 24,
     "metadata": {},
     "output_type": "execute_result"
    },
    {
     "data": {
      "image/png": "[encoded data removed]",
      "text/plain": [
       "<Figure size 432x288 with 1 Axes>"
      ]
     },
     "metadata": {
      "needs_background": "light"
     },
     "output_type": "display_data"
    }
   ],
   "source": [
    "chart = sb.countplot(x = \"Destination\", data = train)\n",
    "chart.set_xticklabels(chart.get_xticklabels(), rotation=90)"
   ]
  },
  {
   "cell_type": "markdown",
   "metadata": {},
   "source": [
    "There are 2 lines for Delhi - Delhi & New Delhi. I will replace New Delhi with Delhi in Destination for cleaner data processing. "
   ]
  },
  {
   "cell_type": "code",
   "execution_count": 25,
   "metadata": {},
   "outputs": [
    {
     "data": {
      "text/plain": [
       "[Text(0, 0, 'Delhi'),\n",
       " Text(0, 0, 'Banglore'),\n",
       " Text(0, 0, 'Cochin'),\n",
       " Text(0, 0, 'Kolkata'),\n",
       " Text(0, 0, 'Hyderabad')]"
      ]
     },
     "execution_count": 25,
     "metadata": {},
     "output_type": "execute_result"
    },
    {
     "data": {
      "image/png": "[encoded data removed]",
      "text/plain": [
       "<Figure size 432x288 with 1 Axes>"
      ]
     },
     "metadata": {
      "needs_background": "light"
     },
     "output_type": "display_data"
    }
   ],
   "source": [
    "train[\"Destination\"] = train[\"Destination\"].replace(\"New Delhi\", \"Delhi\")\n",
    "chart = sb.countplot(x = \"Destination\", data = train)\n",
    "chart.set_xticklabels(chart.get_xticklabels(), rotation=90)"
   ]
  },
  {
   "cell_type": "markdown",
   "metadata": {},
   "source": [
    "Cochin is the most popular arrival place."
   ]
  },
  {
   "cell_type": "code",
   "execution_count": 26,
   "metadata": {},
   "outputs": [
    {
     "data": {
      "text/plain": [
       "[Text(0, 0, 'non-stop'),\n",
       " Text(0, 0, '2 stops'),\n",
       " Text(0, 0, '1 stop'),\n",
       " Text(0, 0, '3 stops'),\n",
       " Text(0, 0, '4 stops')]"
      ]
     },
     "execution_count": 26,
     "metadata": {},
     "output_type": "execute_result"
    },
    {
     "data": {
      "image/png": "[encoded data removed]",
      "text/plain": [
       "<Figure size 432x288 with 1 Axes>"
      ]
     },
     "metadata": {
      "needs_background": "light"
     },
     "output_type": "display_data"
    }
   ],
   "source": [
    "chart = sb.countplot(x = \"Total_Stops\", data = train)\n",
    "chart.set_xticklabels(chart.get_xticklabels(), rotation=90)"
   ]
  },
  {
   "cell_type": "markdown",
   "metadata": {},
   "source": [
    "1-stop flights are the most common. It makes sense as this data is for domestic flights only."
   ]
  },
  {
   "cell_type": "markdown",
   "metadata": {},
   "source": [
    "#### <u>Bi-Variate Analysis</u>"
   ]
  },
  {
   "cell_type": "code",
   "execution_count": 27,
   "metadata": {
    "scrolled": true
   },
   "outputs": [
    {
     "data": {
      "image/png": "[encoded data removed]",
      "text/plain": [
       "<Figure size 1080x360 with 1 Axes>"
      ]
     },
     "metadata": {
      "needs_background": "light"
     },
     "output_type": "display_data"
    }
   ],
   "source": [
    "#Which airways has highest rate\n",
    "sb.catplot(x='Airline',y='Price',kind='point',data=train,height=5,aspect=3)\n",
    "plt.xticks(rotation=90)\n",
    "plt.show()"
   ]
  },
  {
   "cell_type": "markdown",
   "metadata": {},
   "source": [
    "Business Class of Jet Airways is the most expensive. "
   ]
  },
  {
   "cell_type": "code",
   "execution_count": 28,
   "metadata": {},
   "outputs": [
    {
     "name": "stdout",
     "output_type": "stream",
     "text": [
      "Source    Destination\n",
      "Delhi     Cochin         4345\n",
      "Kolkata   Banglore       2860\n",
      "Banglore  Delhi          2179\n",
      "Mumbai    Hyderabad       697\n",
      "Chennai   Kolkata         381\n",
      "dtype: int64\n"
     ]
    },
    {
     "data": {
      "text/plain": [
       "('Delhi', 'Cochin')"
      ]
     },
     "execution_count": 28,
     "metadata": {},
     "output_type": "execute_result"
    }
   ],
   "source": [
    "counts = train.groupby(['Source','Destination']).size().sort_values(ascending=False)\n",
    "print(counts)\n",
    "\n",
    "counts.index[0]"
   ]
  },
  {
   "cell_type": "code",
   "execution_count": 29,
   "metadata": {},
   "outputs": [
    {
     "data": {
      "text/plain": [
       "<matplotlib.axes._subplots.AxesSubplot at 0x2455c1a0340>"
      ]
     },
     "execution_count": 29,
     "metadata": {},
     "output_type": "execute_result"
    },
    {
     "data": {
      "image/png": "[encoded data removed]",
      "text/plain": [
       "<Figure size 432x288 with 1 Axes>"
      ]
     },
     "metadata": {
      "needs_background": "light"
     },
     "output_type": "display_data"
    }
   ],
   "source": [
    "pd.crosstab(train['Source'],train['Destination']).plot.bar()"
   ]
  },
  {
   "cell_type": "markdown",
   "metadata": {},
   "source": [
    "The flights from Delhi to Cochin are most popular. Flights from Chennai to Kolkata are the least popular"
   ]
  },
  {
   "cell_type": "code",
   "execution_count": 30,
   "metadata": {},
   "outputs": [
    {
     "data": {
      "text/plain": [
       "<matplotlib.axes._subplots.AxesSubplot at 0x2455d2b5b20>"
      ]
     },
     "execution_count": 30,
     "metadata": {},
     "output_type": "execute_result"
    },
    {
     "data": {
      "image/png": "[encoded data removed]",
      "text/plain": [
       "<Figure size 432x288 with 1 Axes>"
      ]
     },
     "metadata": {
      "needs_background": "light"
     },
     "output_type": "display_data"
    }
   ],
   "source": [
    "sb.stripplot(x = \"Source\", y = \"Price\", data = train)"
   ]
  },
  {
   "cell_type": "markdown",
   "metadata": {},
   "source": [
    "On an average, tickets from Bangalore and Delhi are pretty expensive. Bangalore also has some outliers."
   ]
  },
  {
   "cell_type": "code",
   "execution_count": 31,
   "metadata": {},
   "outputs": [
    {
     "data": {
      "text/plain": [
       "<matplotlib.axes._subplots.AxesSubplot at 0x2455d2e86a0>"
      ]
     },
     "execution_count": 31,
     "metadata": {},
     "output_type": "execute_result"
    },
    {
     "data": {
      "image/png": "[encoded data removed]",
      "text/plain": [
       "<Figure size 432x288 with 1 Axes>"
      ]
     },
     "metadata": {
      "needs_background": "light"
     },
     "output_type": "display_data"
    }
   ],
   "source": [
    "sb.stripplot(x = \"Destination\", y = \"Price\", data = train)"
   ]
  },
  {
   "cell_type": "markdown",
   "metadata": {},
   "source": [
    "Tickets to Delhi & Cochin are expensive."
   ]
  },
  {
   "cell_type": "code",
   "execution_count": 32,
   "metadata": {},
   "outputs": [
    {
     "data": {
      "text/plain": [
       "<matplotlib.axes._subplots.AxesSubplot at 0x2455d362040>"
      ]
     },
     "execution_count": 32,
     "metadata": {},
     "output_type": "execute_result"
    },
    {
     "data": {
      "image/png": "[encoded data removed]",
      "text/plain": [
       "<Figure size 432x288 with 1 Axes>"
      ]
     },
     "metadata": {
      "needs_background": "light"
     },
     "output_type": "display_data"
    }
   ],
   "source": [
    "sb.stripplot(x='Total_Stops',y='Price',data=train)"
   ]
  },
  {
   "cell_type": "code",
   "execution_count": 33,
   "metadata": {},
   "outputs": [
    {
     "data": {
      "text/plain": [
       "<matplotlib.axes._subplots.AxesSubplot at 0x2455ea3aaf0>"
      ]
     },
     "execution_count": 33,
     "metadata": {},
     "output_type": "execute_result"
    },
    {
     "data": {
      "image/png": "[encoded data removed]",
      "text/plain": [
       "<Figure size 432x288 with 1 Axes>"
      ]
     },
     "metadata": {
      "needs_background": "light"
     },
     "output_type": "display_data"
    }
   ],
   "source": [
    "sb.boxenplot(x = \"journey_day\", y = \"Price\", data = train)"
   ]
  },
  {
   "cell_type": "markdown",
   "metadata": {},
   "source": [
    "It looks like prices rapidly spike on Friday. It might be because if you are travelling anywhere you generally prefer to spend the weekend in the new place. "
   ]
  },
  {
   "cell_type": "code",
   "execution_count": 34,
   "metadata": {},
   "outputs": [
    {
     "data": {
      "text/plain": [
       "<matplotlib.axes._subplots.AxesSubplot at 0x2455eae2b20>"
      ]
     },
     "execution_count": 34,
     "metadata": {},
     "output_type": "execute_result"
    },
    {
     "data": {
      "image/png": "[encoded data removed]",
      "text/plain": [
       "<Figure size 432x288 with 1 Axes>"
      ]
     },
     "metadata": {
      "needs_background": "light"
     },
     "output_type": "display_data"
    }
   ],
   "source": [
    "sb.boxenplot(x = \"journey_month\", y = \"Price\", data = train)"
   ]
  },
  {
   "cell_type": "markdown",
   "metadata": {},
   "source": [
    "April is the cheapest month to fly. March has the most flight traffic, though the average price for the months of March , May and June are similar. "
   ]
  },
  {
   "cell_type": "markdown",
   "metadata": {},
   "source": [
    "### Test Data EDA\n",
    "\n",
    "##### Continous Variables"
   ]
  },
  {
   "cell_type": "code",
   "execution_count": 35,
   "metadata": {},
   "outputs": [
    {
     "data": {
      "text/plain": [
       "array([[<matplotlib.axes._subplots.AxesSubplot object at 0x000002455EACF160>,\n",
       "        <matplotlib.axes._subplots.AxesSubplot object at 0x000002455EB88670>,\n",
       "        <matplotlib.axes._subplots.AxesSubplot object at 0x000002455EBB3AF0>],\n",
       "       [<matplotlib.axes._subplots.AxesSubplot object at 0x000002455EBE0F40>,\n",
       "        <matplotlib.axes._subplots.AxesSubplot object at 0x000002455EC1A3D0>,\n",
       "        <matplotlib.axes._subplots.AxesSubplot object at 0x000002455EC46760>],\n",
       "       [<matplotlib.axes._subplots.AxesSubplot object at 0x000002455EC46850>,\n",
       "        <matplotlib.axes._subplots.AxesSubplot object at 0x000002455EC73D00>,\n",
       "        <matplotlib.axes._subplots.AxesSubplot object at 0x000002455ECD7490>]],\n",
       "      dtype=object)"
      ]
     },
     "execution_count": 35,
     "metadata": {},
     "output_type": "execute_result"
    },
    {
     "data": {
      "image/png": "[encoded data removed]",
      "text/plain": [
       "<Figure size 1152x1440 with 9 Axes>"
      ]
     },
     "metadata": {
      "needs_background": "light"
     },
     "output_type": "display_data"
    }
   ],
   "source": [
    "# Understanding numeric Distributions. \n",
    "test_num = test.select_dtypes(include = [\"float64\", \"int64\"])\n",
    "test_num.head()\n",
    "test_num.hist(figsize=(16, 20), bins=50, xlabelsize=8, ylabelsize=8)"
   ]
  },
  {
   "cell_type": "code",
   "execution_count": 36,
   "metadata": {},
   "outputs": [
    {
     "data": {
      "text/plain": [
       "[Text(0, 0, 'Jet Airways'),\n",
       " Text(0, 0, 'IndiGo'),\n",
       " Text(0, 0, 'Multiple carriers'),\n",
       " Text(0, 0, 'Air Asia'),\n",
       " Text(0, 0, 'Air India'),\n",
       " Text(0, 0, 'Vistara'),\n",
       " Text(0, 0, 'SpiceJet'),\n",
       " Text(0, 0, 'Vistara Premium economy'),\n",
       " Text(0, 0, 'GoAir'),\n",
       " Text(0, 0, 'Multiple carriers Premium economy'),\n",
       " Text(0, 0, 'Jet Airways Business')]"
      ]
     },
     "execution_count": 36,
     "metadata": {},
     "output_type": "execute_result"
    },
    {
     "data": {
      "image/png": "[encoded data removed]",
      "text/plain": [
       "<Figure size 432x288 with 1 Axes>"
      ]
     },
     "metadata": {
      "needs_background": "light"
     },
     "output_type": "display_data"
    }
   ],
   "source": [
    "chart = sb.countplot(x = \"Airline\", data = test)\n",
    "chart.set_xticklabels(chart.get_xticklabels(), rotation=90)"
   ]
  },
  {
   "cell_type": "code",
   "execution_count": 37,
   "metadata": {},
   "outputs": [
    {
     "data": {
      "text/plain": [
       "[Text(0, 0, 'Delhi'),\n",
       " Text(0, 0, 'Kolkata'),\n",
       " Text(0, 0, 'Banglore'),\n",
       " Text(0, 0, 'Mumbai'),\n",
       " Text(0, 0, 'Chennai')]"
      ]
     },
     "execution_count": 37,
     "metadata": {},
     "output_type": "execute_result"
    },
    {
     "data": {
      "image/png": "[encoded data removed]",
      "text/plain": [
       "<Figure size 432x288 with 1 Axes>"
      ]
     },
     "metadata": {
      "needs_background": "light"
     },
     "output_type": "display_data"
    }
   ],
   "source": [
    "chart = sb.countplot(x = \"Source\", data = test)\n",
    "chart.set_xticklabels(chart.get_xticklabels(), rotation=90)"
   ]
  },
  {
   "cell_type": "code",
   "execution_count": 38,
   "metadata": {},
   "outputs": [
    {
     "data": {
      "text/plain": [
       "[Text(0, 0, 'Delhi'),\n",
       " Text(0, 0, 'Banglore'),\n",
       " Text(0, 0, 'Cochin'),\n",
       " Text(0, 0, 'Kolkata'),\n",
       " Text(0, 0, 'Hyderabad')]"
      ]
     },
     "execution_count": 38,
     "metadata": {},
     "output_type": "execute_result"
    },
    {
     "data": {
      "image/png": "[encoded data removed]",
      "text/plain": [
       "<Figure size 432x288 with 1 Axes>"
      ]
     },
     "metadata": {
      "needs_background": "light"
     },
     "output_type": "display_data"
    }
   ],
   "source": [
    "train[\"Destination\"] = train[\"Destination\"].replace(\"New Delhi\", \"Delhi\")\n",
    "chart = sb.countplot(x = \"Destination\", data = train)\n",
    "chart.set_xticklabels(chart.get_xticklabels(), rotation=90)"
   ]
  },
  {
   "cell_type": "code",
   "execution_count": 39,
   "metadata": {},
   "outputs": [
    {
     "data": {
      "text/plain": [
       "[Text(0, 0, 'non-stop'),\n",
       " Text(0, 0, '2 stops'),\n",
       " Text(0, 0, '1 stop'),\n",
       " Text(0, 0, '3 stops'),\n",
       " Text(0, 0, '4 stops')]"
      ]
     },
     "execution_count": 39,
     "metadata": {},
     "output_type": "execute_result"
    },
    {
     "data": {
      "image/png": "[encoded data removed]",
      "text/plain": [
       "<Figure size 432x288 with 1 Axes>"
      ]
     },
     "metadata": {
      "needs_background": "light"
     },
     "output_type": "display_data"
    }
   ],
   "source": [
    "chart = sb.countplot(x = \"Total_Stops\", data = train)\n",
    "chart.set_xticklabels(chart.get_xticklabels(), rotation=90)"
   ]
  },
  {
   "cell_type": "code",
   "execution_count": 40,
   "metadata": {},
   "outputs": [
    {
     "name": "stdout",
     "output_type": "stream",
     "text": [
      "Source    Destination\n",
      "Delhi     Cochin         1145\n",
      "Kolkata   Banglore        710\n",
      "Banglore  Delhi           317\n",
      "          New Delhi       238\n",
      "Mumbai    Hyderabad       186\n",
      "Chennai   Kolkata          75\n",
      "dtype: int64\n"
     ]
    },
    {
     "data": {
      "text/plain": [
       "('Delhi', 'Cochin')"
      ]
     },
     "execution_count": 40,
     "metadata": {},
     "output_type": "execute_result"
    }
   ],
   "source": [
    "counts = test.groupby(['Source','Destination']).size().sort_values(ascending=False)\n",
    "print(counts)\n",
    "\n",
    "counts.index[0]"
   ]
  },
  {
   "cell_type": "code",
   "execution_count": 41,
   "metadata": {},
   "outputs": [
    {
     "data": {
      "text/plain": [
       "<matplotlib.axes._subplots.AxesSubplot at 0x2455f9f6760>"
      ]
     },
     "execution_count": 41,
     "metadata": {},
     "output_type": "execute_result"
    },
    {
     "data": {
      "image/png": "[encoded data removed]",
      "text/plain": [
       "<Figure size 432x288 with 1 Axes>"
      ]
     },
     "metadata": {
      "needs_background": "light"
     },
     "output_type": "display_data"
    }
   ],
   "source": [
    "pd.crosstab(train['Source'],train['Destination']).plot.bar()"
   ]
  },
  {
   "cell_type": "markdown",
   "metadata": {},
   "source": [
    "#### <u>Correlation Plot</u>"
   ]
  },
  {
   "cell_type": "code",
   "execution_count": 42,
   "metadata": {},
   "outputs": [
    {
     "data": {
      "text/plain": [
       "<matplotlib.axes._subplots.AxesSubplot at 0x2455fab8880>"
      ]
     },
     "execution_count": 42,
     "metadata": {},
     "output_type": "execute_result"
    },
    {
     "data": {
      "image/png": "[encoded data removed]",
      "text/plain": [
       "<Figure size 432x288 with 2 Axes>"
      ]
     },
     "metadata": {
      "needs_background": "light"
     },
     "output_type": "display_data"
    }
   ],
   "source": [
    "sb.heatmap(train.corr(), annot = True, cmap = \"magma\")"
   ]
  },
  {
   "cell_type": "code",
   "execution_count": 43,
   "metadata": {},
   "outputs": [
    {
     "data": {
      "text/plain": [
       "<matplotlib.axes._subplots.AxesSubplot at 0x2455d0fb100>"
      ]
     },
     "execution_count": 43,
     "metadata": {},
     "output_type": "execute_result"
    },
    {
     "data": {
      "image/png": "[encoded data removed]",
      "text/plain": [
       "<Figure size 432x288 with 2 Axes>"
      ]
     },
     "metadata": {
      "needs_background": "light"
     },
     "output_type": "display_data"
    }
   ],
   "source": [
    "sb.heatmap(test.corr(), annot = True, cmap = \"viridis\")"
   ]
  },
  {
   "cell_type": "markdown",
   "metadata": {},
   "source": [
    "The correlation plots for both train and test show that there does not seem to be any correlation between the columns. "
   ]
  },
  {
   "cell_type": "markdown",
   "metadata": {},
   "source": [
    "### EDA Conclusions\n",
    "\n",
    "1. The Test & Train Datasets mirror each other, which means any models we build will be appropriate.\n",
    "\n",
    "2. The most common flight path is from Delhi to Cochin. The least common flight path is from Chennai to Cochin. \n",
    "\n",
    "3. One-stop flights are the most commonly booked flights. \n",
    "\n",
    "4. Jet Airway Economy class is the most popular flight type. The most expensive flight type is Jet Airways Business Class. \n",
    "\n",
    "5. April is the cheapest month to fly. Friday has the most flight bookings. "
   ]
  },
  {
   "cell_type": "markdown",
   "metadata": {},
   "source": [
    "## Feature Selection\n",
    "\n",
    "Feature selection is a process where you automatically select those features in your data that contribute most to the prediction variable or output in which you are interested.\n",
    "\n",
    "Having irrelevant features in your data can decrease the accuracy of many models, especially linear algorithms like linear and logistic regression.\n",
    "\n",
    "Three benefits of performing feature selection before modeling your data are:\n",
    "\n",
    "Reduces Overfitting: Less redundant data means less opportunity to make decisions based on noise.\n",
    "Improves Accuracy: Less misleading data means modeling accuracy improves.\n",
    "Reduces Training Time: Less data means that algorithms train faster.\n",
    "There are many ways to do feature selection - Univariate Feature Selection, Recursive Feature Selection, Model Feature Selection. I am using Univariate Feature Selection as it checks how each feature affects the predicted variable.\n",
    "\n",
    "#### Treating Train Data For Feature Selection"
   ]
  },
  {
   "cell_type": "code",
   "execution_count": 44,
   "metadata": {},
   "outputs": [],
   "source": [
    "Airline = train[[\"Airline\"]]\n",
    "Airline = pd.get_dummies(train.Airline, drop_first= True)\n",
    "\n",
    "Airline_test = pd.get_dummies(test.Airline, drop_first= True)"
   ]
  },
  {
   "cell_type": "code",
   "execution_count": 45,
   "metadata": {},
   "outputs": [],
   "source": [
    "Source = pd.get_dummies(train.Source, drop_first= True)\n",
    "Source = Source.rename(columns= {\"Chennai\": \"Source_Chennai\", \"Delhi\": \"Source_Delhi\", \"Kolkata\": \"Source_Kolkata\", \"Mumbai\": \"Source_Mumbai\", \"Bangalore\": \"Source_Bangalore\"})\n",
    "\n",
    "Source_test = pd.get_dummies(test.Source, drop_first= True)\n",
    "Source_test = Source_test.rename(columns= {\"Chennai\": \"Source_Chennai\", \"Delhi\": \"Source_Delhi\", \"Kolkata\": \"Source_Kolkata\", \"Mumbai\": \"Source_Mumbai\", \"Bangalore\": \"Source_Bangalore\"})"
   ]
  },
  {
   "cell_type": "code",
   "execution_count": 46,
   "metadata": {},
   "outputs": [],
   "source": [
    "Destination = pd.get_dummies(train.Destination, drop_first= True)\n",
    "Destination = Destination.rename(columns= {\"Cochin\": \"Dest_Cochin\", \"Delhi\": \"Dest_Delhi\", \"Kolkata\": \"Dest_Kolkata\", \"Hyderabad\": \"Dest_Hyderabad\", \"Bangalore\": \"Dest_Bangalore\"})\n",
    "\n",
    "Destination_test = pd.get_dummies(test.Destination, drop_first= True)\n",
    "Destination_test = Destination_test.rename(columns= {\"Cochin\": \"Dest_Cochin\", \"Delhi\": \"Dest_Delhi\", \"Kolkata\": \"Dest_Kolkata\", \"Hyderabad\": \"Dest_Hyderabad\", \"Bangalore\": \"Dest_Bangalore\"})"
   ]
  },
  {
   "cell_type": "code",
   "execution_count": 47,
   "metadata": {},
   "outputs": [],
   "source": [
    "Stops = pd.get_dummies(train.Total_Stops, drop_first= True)\n",
    "\n",
    "Stops_test = pd.get_dummies(test.Total_Stops, drop_first= True)"
   ]
  },
  {
   "cell_type": "code",
   "execution_count": 48,
   "metadata": {},
   "outputs": [],
   "source": [
    "# New Dataset with the Airline, Source & Destination lines \n",
    "train.drop([\"Airline\", \"Source\", \"Destination\"], axis= 1, inplace= True)\n",
    "test.drop([\"Airline\", \"Source\", \"Destination\"], axis= 1, inplace= True)"
   ]
  },
  {
   "cell_type": "code",
   "execution_count": 49,
   "metadata": {},
   "outputs": [],
   "source": [
    "final_train = pd.concat([train, Airline, Source, Destination, Stops], axis= 1)\n",
    "final_test = pd.concat([test, Airline_test, Source_test, Destination_test, Stops_test], axis= 1)"
   ]
  },
  {
   "cell_type": "code",
   "execution_count": 50,
   "metadata": {},
   "outputs": [
    {
     "data": {
      "text/plain": [
       "((10462, 35), (2671, 34))"
      ]
     },
     "execution_count": 50,
     "metadata": {},
     "output_type": "execute_result"
    }
   ],
   "source": [
    "final_train.shape, final_test.shape"
   ]
  },
  {
   "cell_type": "code",
   "execution_count": 55,
   "metadata": {},
   "outputs": [
    {
     "data": {
      "text/plain": [
       "Index(['Total_Stops', 'Additional_Info', 'Price', 'journey_day',\n",
       "       'journey_date', 'journey_month', 'dep_hour', 'dep_min', 'arr_hour',\n",
       "       'arr_min', 'duration_hour', 'duration_minute', 'Air India', 'GoAir',\n",
       "       'IndiGo', 'Jet Airways', 'Jet Airways Business', 'Multiple carriers',\n",
       "       'Multiple carriers Premium economy', 'SpiceJet', 'Trujet', 'Vistara',\n",
       "       'Vistara Premium economy', 'Source_Chennai', 'Source_Delhi',\n",
       "       'Source_Kolkata', 'Source_Mumbai', 'Dest_Cochin', 'Dest_Delhi',\n",
       "       'Dest_Hyderabad', 'Dest_Kolkata', '2 stops', '3 stops', '4 stops',\n",
       "       'non-stop'],\n",
       "      dtype='object')"
      ]
     },
     "execution_count": 55,
     "metadata": {},
     "output_type": "execute_result"
    }
   ],
   "source": [
    "final_train.columns"
   ]
  },
  {
   "cell_type": "code",
   "execution_count": 56,
   "metadata": {},
   "outputs": [
    {
     "data": {
      "text/html": [
       "<div>\n",
       "<style scoped>\n",
       "    .dataframe tbody tr th:only-of-type {\n",
       "        vertical-align: middle;\n",
       "    }\n",
       "\n",
       "    .dataframe tbody tr th {\n",
       "        vertical-align: top;\n",
       "    }\n",
       "\n",
       "    .dataframe thead th {\n",
       "        text-align: right;\n",
       "    }\n",
       "</style>\n",
       "<table border=\"1\" class=\"dataframe\">\n",
       "  <thead>\n",
       "    <tr style=\"text-align: right;\">\n",
       "      <th></th>\n",
       "      <th>journey_date</th>\n",
       "      <th>journey_month</th>\n",
       "      <th>dep_hour</th>\n",
       "      <th>dep_min</th>\n",
       "      <th>arr_hour</th>\n",
       "      <th>arr_min</th>\n",
       "      <th>duration_hour</th>\n",
       "      <th>duration_minute</th>\n",
       "      <th>Air India</th>\n",
       "      <th>GoAir</th>\n",
       "      <th>...</th>\n",
       "      <th>Source_Kolkata</th>\n",
       "      <th>Source_Mumbai</th>\n",
       "      <th>Dest_Cochin</th>\n",
       "      <th>Dest_Delhi</th>\n",
       "      <th>Dest_Hyderabad</th>\n",
       "      <th>Dest_Kolkata</th>\n",
       "      <th>2 stops</th>\n",
       "      <th>3 stops</th>\n",
       "      <th>4 stops</th>\n",
       "      <th>non-stop</th>\n",
       "    </tr>\n",
       "  </thead>\n",
       "  <tbody>\n",
       "    <tr>\n",
       "      <th>0</th>\n",
       "      <td>24</td>\n",
       "      <td>3</td>\n",
       "      <td>22</td>\n",
       "      <td>20</td>\n",
       "      <td>1</td>\n",
       "      <td>10</td>\n",
       "      <td>2</td>\n",
       "      <td>50</td>\n",
       "      <td>0</td>\n",
       "      <td>0</td>\n",
       "      <td>...</td>\n",
       "      <td>0</td>\n",
       "      <td>0</td>\n",
       "      <td>0</td>\n",
       "      <td>1</td>\n",
       "      <td>0</td>\n",
       "      <td>0</td>\n",
       "      <td>0</td>\n",
       "      <td>0</td>\n",
       "      <td>0</td>\n",
       "      <td>1</td>\n",
       "    </tr>\n",
       "    <tr>\n",
       "      <th>1</th>\n",
       "      <td>1</td>\n",
       "      <td>5</td>\n",
       "      <td>5</td>\n",
       "      <td>50</td>\n",
       "      <td>13</td>\n",
       "      <td>15</td>\n",
       "      <td>7</td>\n",
       "      <td>25</td>\n",
       "      <td>1</td>\n",
       "      <td>0</td>\n",
       "      <td>...</td>\n",
       "      <td>1</td>\n",
       "      <td>0</td>\n",
       "      <td>0</td>\n",
       "      <td>0</td>\n",
       "      <td>0</td>\n",
       "      <td>0</td>\n",
       "      <td>1</td>\n",
       "      <td>0</td>\n",
       "      <td>0</td>\n",
       "      <td>0</td>\n",
       "    </tr>\n",
       "    <tr>\n",
       "      <th>2</th>\n",
       "      <td>9</td>\n",
       "      <td>6</td>\n",
       "      <td>9</td>\n",
       "      <td>25</td>\n",
       "      <td>4</td>\n",
       "      <td>25</td>\n",
       "      <td>19</td>\n",
       "      <td>0</td>\n",
       "      <td>0</td>\n",
       "      <td>0</td>\n",
       "      <td>...</td>\n",
       "      <td>0</td>\n",
       "      <td>0</td>\n",
       "      <td>1</td>\n",
       "      <td>0</td>\n",
       "      <td>0</td>\n",
       "      <td>0</td>\n",
       "      <td>1</td>\n",
       "      <td>0</td>\n",
       "      <td>0</td>\n",
       "      <td>0</td>\n",
       "    </tr>\n",
       "    <tr>\n",
       "      <th>3</th>\n",
       "      <td>12</td>\n",
       "      <td>5</td>\n",
       "      <td>18</td>\n",
       "      <td>5</td>\n",
       "      <td>23</td>\n",
       "      <td>30</td>\n",
       "      <td>5</td>\n",
       "      <td>25</td>\n",
       "      <td>0</td>\n",
       "      <td>0</td>\n",
       "      <td>...</td>\n",
       "      <td>1</td>\n",
       "      <td>0</td>\n",
       "      <td>0</td>\n",
       "      <td>0</td>\n",
       "      <td>0</td>\n",
       "      <td>0</td>\n",
       "      <td>0</td>\n",
       "      <td>0</td>\n",
       "      <td>0</td>\n",
       "      <td>0</td>\n",
       "    </tr>\n",
       "    <tr>\n",
       "      <th>4</th>\n",
       "      <td>1</td>\n",
       "      <td>3</td>\n",
       "      <td>16</td>\n",
       "      <td>50</td>\n",
       "      <td>21</td>\n",
       "      <td>35</td>\n",
       "      <td>4</td>\n",
       "      <td>45</td>\n",
       "      <td>0</td>\n",
       "      <td>0</td>\n",
       "      <td>...</td>\n",
       "      <td>0</td>\n",
       "      <td>0</td>\n",
       "      <td>0</td>\n",
       "      <td>1</td>\n",
       "      <td>0</td>\n",
       "      <td>0</td>\n",
       "      <td>0</td>\n",
       "      <td>0</td>\n",
       "      <td>0</td>\n",
       "      <td>0</td>\n",
       "    </tr>\n",
       "  </tbody>\n",
       "</table>\n",
       "<p>5 rows × 31 columns</p>\n",
       "</div>"
      ],
      "text/plain": [
       "   journey_date  journey_month  dep_hour  dep_min  arr_hour  arr_min  \\\n",
       "0            24              3        22       20         1       10   \n",
       "1             1              5         5       50        13       15   \n",
       "2             9              6         9       25         4       25   \n",
       "3            12              5        18        5        23       30   \n",
       "4             1              3        16       50        21       35   \n",
       "\n",
       "   duration_hour  duration_minute  Air India  GoAir  ...  Source_Kolkata  \\\n",
       "0              2               50          0      0  ...               0   \n",
       "1              7               25          1      0  ...               1   \n",
       "2             19                0          0      0  ...               0   \n",
       "3              5               25          0      0  ...               1   \n",
       "4              4               45          0      0  ...               0   \n",
       "\n",
       "   Source_Mumbai  Dest_Cochin  Dest_Delhi  Dest_Hyderabad  Dest_Kolkata  \\\n",
       "0              0            0           1               0             0   \n",
       "1              0            0           0               0             0   \n",
       "2              0            1           0               0             0   \n",
       "3              0            0           0               0             0   \n",
       "4              0            0           1               0             0   \n",
       "\n",
       "   2 stops  3 stops  4 stops  non-stop  \n",
       "0        0        0        0         1  \n",
       "1        1        0        0         0  \n",
       "2        1        0        0         0  \n",
       "3        0        0        0         0  \n",
       "4        0        0        0         0  \n",
       "\n",
       "[5 rows x 31 columns]"
      ]
     },
     "execution_count": 56,
     "metadata": {},
     "output_type": "execute_result"
    }
   ],
   "source": [
    "x = final_train.loc[:, ['journey_date', 'journey_month', 'dep_hour', 'dep_min', 'arr_hour',\n",
    "       'arr_min', 'duration_hour', 'duration_minute', 'Air India', 'GoAir',\n",
    "       'IndiGo', 'Jet Airways', 'Jet Airways Business', 'Multiple carriers',\n",
    "       'Multiple carriers Premium economy', 'SpiceJet', 'Trujet', 'Vistara',\n",
    "       'Vistara Premium economy', 'Source_Chennai', 'Source_Delhi',\n",
    "       'Source_Kolkata', 'Source_Mumbai', 'Dest_Cochin', 'Dest_Delhi',\n",
    "       'Dest_Hyderabad', 'Dest_Kolkata', '2 stops', '3 stops', '4 stops',\n",
    "       'non-stop']]\n",
    "\n",
    "x.head()"
   ]
  },
  {
   "cell_type": "code",
   "execution_count": 57,
   "metadata": {
    "scrolled": false
   },
   "outputs": [
    {
     "data": {
      "text/plain": [
       "0     3897\n",
       "1     7662\n",
       "2    13882\n",
       "3     6218\n",
       "4    13302\n",
       "Name: Price, dtype: int64"
      ]
     },
     "execution_count": 57,
     "metadata": {},
     "output_type": "execute_result"
    }
   ],
   "source": [
    "y = final_train.loc[:, \"Price\"]\n",
    "y.head()"
   ]
  },
  {
   "cell_type": "code",
   "execution_count": 58,
   "metadata": {},
   "outputs": [
    {
     "data": {
      "text/plain": [
       "Index(['Total_Stops', 'Additional_Info', 'journey_day', 'journey_date',\n",
       "       'journey_month', 'dep_hour', 'dep_min', 'arr_hour', 'arr_min',\n",
       "       'duration_hour', 'duration_minute', 'Air India', 'GoAir', 'IndiGo',\n",
       "       'Jet Airways', 'Jet Airways Business', 'Multiple carriers',\n",
       "       'Multiple carriers Premium economy', 'SpiceJet', 'Vistara',\n",
       "       'Vistara Premium economy', 'Source_Chennai', 'Source_Delhi',\n",
       "       'Source_Kolkata', 'Source_Mumbai', 'Dest_Cochin', 'Dest_Delhi',\n",
       "       'Dest_Hyderabad', 'Dest_Kolkata', 'New Delhi', '2 stops', '3 stops',\n",
       "       '4 stops', 'non-stop'],\n",
       "      dtype='object')"
      ]
     },
     "execution_count": 58,
     "metadata": {},
     "output_type": "execute_result"
    }
   ],
   "source": [
    "final_test.columns"
   ]
  },
  {
   "cell_type": "markdown",
   "metadata": {},
   "source": [
    "### SelectKBest Using Chi-Squared Method"
   ]
  },
  {
   "cell_type": "code",
   "execution_count": 59,
   "metadata": {},
   "outputs": [],
   "source": [
    "# call packages\n",
    "from sklearn.feature_selection import SelectKBest, chi2\n",
    "\n",
    "# Using SelectKBest to extract top 10 features\n",
    "topfeatures = SelectKBest(score_func = chi2, k = 10)\n",
    "fit = topfeatures.fit(x, y)\n",
    "xyscore = pd.DataFrame(fit.scores_)\n",
    "xycolumn = pd.DataFrame(x.columns)"
   ]
  },
  {
   "cell_type": "code",
   "execution_count": 60,
   "metadata": {},
   "outputs": [],
   "source": [
    "# Concatenate both data frames to get features and scores\n",
    "featurescore = pd.concat([xycolumn, xyscore], axis = 1)\n",
    "\n",
    "# rename columns featurescore dataframe\n",
    "featurescore.columns = [\"Feature\", \"Score\"]"
   ]
  },
  {
   "cell_type": "code",
   "execution_count": 61,
   "metadata": {},
   "outputs": [
    {
     "data": {
      "text/html": [
       "<div>\n",
       "<style scoped>\n",
       "    .dataframe tbody tr th:only-of-type {\n",
       "        vertical-align: middle;\n",
       "    }\n",
       "\n",
       "    .dataframe tbody tr th {\n",
       "        vertical-align: top;\n",
       "    }\n",
       "\n",
       "    .dataframe thead th {\n",
       "        text-align: right;\n",
       "    }\n",
       "</style>\n",
       "<table border=\"1\" class=\"dataframe\">\n",
       "  <thead>\n",
       "    <tr style=\"text-align: right;\">\n",
       "      <th></th>\n",
       "      <th>Feature</th>\n",
       "      <th>Score</th>\n",
       "    </tr>\n",
       "  </thead>\n",
       "  <tbody>\n",
       "    <tr>\n",
       "      <th>3</th>\n",
       "      <td>dep_min</td>\n",
       "      <td>66888.808672</td>\n",
       "    </tr>\n",
       "    <tr>\n",
       "      <th>6</th>\n",
       "      <td>duration_hour</td>\n",
       "      <td>56965.976056</td>\n",
       "    </tr>\n",
       "    <tr>\n",
       "      <th>5</th>\n",
       "      <td>arr_min</td>\n",
       "      <td>49859.587431</td>\n",
       "    </tr>\n",
       "    <tr>\n",
       "      <th>7</th>\n",
       "      <td>duration_minute</td>\n",
       "      <td>43259.559538</td>\n",
       "    </tr>\n",
       "    <tr>\n",
       "      <th>0</th>\n",
       "      <td>journey_date</td>\n",
       "      <td>22040.278740</td>\n",
       "    </tr>\n",
       "    <tr>\n",
       "      <th>4</th>\n",
       "      <td>arr_hour</td>\n",
       "      <td>18520.476928</td>\n",
       "    </tr>\n",
       "    <tr>\n",
       "      <th>2</th>\n",
       "      <td>dep_hour</td>\n",
       "      <td>10635.788092</td>\n",
       "    </tr>\n",
       "    <tr>\n",
       "      <th>16</th>\n",
       "      <td>Trujet</td>\n",
       "      <td>10461.000000</td>\n",
       "    </tr>\n",
       "    <tr>\n",
       "      <th>29</th>\n",
       "      <td>4 stops</td>\n",
       "      <td>10461.000000</td>\n",
       "    </tr>\n",
       "    <tr>\n",
       "      <th>18</th>\n",
       "      <td>Vistara Premium economy</td>\n",
       "      <td>10459.000000</td>\n",
       "    </tr>\n",
       "    <tr>\n",
       "      <th>12</th>\n",
       "      <td>Jet Airways Business</td>\n",
       "      <td>10456.000000</td>\n",
       "    </tr>\n",
       "    <tr>\n",
       "      <th>14</th>\n",
       "      <td>Multiple carriers Premium economy</td>\n",
       "      <td>10449.000000</td>\n",
       "    </tr>\n",
       "    <tr>\n",
       "      <th>26</th>\n",
       "      <td>Dest_Kolkata</td>\n",
       "      <td>9861.581830</td>\n",
       "    </tr>\n",
       "    <tr>\n",
       "      <th>19</th>\n",
       "      <td>Source_Chennai</td>\n",
       "      <td>9861.581830</td>\n",
       "    </tr>\n",
       "    <tr>\n",
       "      <th>17</th>\n",
       "      <td>Vistara</td>\n",
       "      <td>9849.404245</td>\n",
       "    </tr>\n",
       "    <tr>\n",
       "      <th>22</th>\n",
       "      <td>Source_Mumbai</td>\n",
       "      <td>9565.040640</td>\n",
       "    </tr>\n",
       "    <tr>\n",
       "      <th>25</th>\n",
       "      <td>Dest_Hyderabad</td>\n",
       "      <td>9565.040640</td>\n",
       "    </tr>\n",
       "    <tr>\n",
       "      <th>9</th>\n",
       "      <td>GoAir</td>\n",
       "      <td>9180.813651</td>\n",
       "    </tr>\n",
       "    <tr>\n",
       "      <th>13</th>\n",
       "      <td>Multiple carriers</td>\n",
       "      <td>9071.932853</td>\n",
       "    </tr>\n",
       "    <tr>\n",
       "      <th>27</th>\n",
       "      <td>2 stops</td>\n",
       "      <td>8714.801368</td>\n",
       "    </tr>\n",
       "    <tr>\n",
       "      <th>8</th>\n",
       "      <td>Air India</td>\n",
       "      <td>8509.011219</td>\n",
       "    </tr>\n",
       "    <tr>\n",
       "      <th>15</th>\n",
       "      <td>SpiceJet</td>\n",
       "      <td>8480.702619</td>\n",
       "    </tr>\n",
       "    <tr>\n",
       "      <th>24</th>\n",
       "      <td>Dest_Delhi</td>\n",
       "      <td>8123.385745</td>\n",
       "    </tr>\n",
       "    <tr>\n",
       "      <th>10</th>\n",
       "      <td>IndiGo</td>\n",
       "      <td>7696.438936</td>\n",
       "    </tr>\n",
       "    <tr>\n",
       "      <th>21</th>\n",
       "      <td>Source_Kolkata</td>\n",
       "      <td>7432.210330</td>\n",
       "    </tr>\n",
       "    <tr>\n",
       "      <th>28</th>\n",
       "      <td>3 stops</td>\n",
       "      <td>7039.995055</td>\n",
       "    </tr>\n",
       "    <tr>\n",
       "      <th>30</th>\n",
       "      <td>non-stop</td>\n",
       "      <td>6908.162163</td>\n",
       "    </tr>\n",
       "    <tr>\n",
       "      <th>11</th>\n",
       "      <td>Jet Airways</td>\n",
       "      <td>6668.706852</td>\n",
       "    </tr>\n",
       "    <tr>\n",
       "      <th>23</th>\n",
       "      <td>Dest_Cochin</td>\n",
       "      <td>5991.643890</td>\n",
       "    </tr>\n",
       "    <tr>\n",
       "      <th>20</th>\n",
       "      <td>Source_Delhi</td>\n",
       "      <td>5991.643890</td>\n",
       "    </tr>\n",
       "    <tr>\n",
       "      <th>1</th>\n",
       "      <td>journey_month</td>\n",
       "      <td>2379.920575</td>\n",
       "    </tr>\n",
       "  </tbody>\n",
       "</table>\n",
       "</div>"
      ],
      "text/plain": [
       "                              Feature         Score\n",
       "3                             dep_min  66888.808672\n",
       "6                       duration_hour  56965.976056\n",
       "5                             arr_min  49859.587431\n",
       "7                     duration_minute  43259.559538\n",
       "0                        journey_date  22040.278740\n",
       "4                            arr_hour  18520.476928\n",
       "2                            dep_hour  10635.788092\n",
       "16                             Trujet  10461.000000\n",
       "29                            4 stops  10461.000000\n",
       "18            Vistara Premium economy  10459.000000\n",
       "12               Jet Airways Business  10456.000000\n",
       "14  Multiple carriers Premium economy  10449.000000\n",
       "26                       Dest_Kolkata   9861.581830\n",
       "19                     Source_Chennai   9861.581830\n",
       "17                            Vistara   9849.404245\n",
       "22                      Source_Mumbai   9565.040640\n",
       "25                     Dest_Hyderabad   9565.040640\n",
       "9                               GoAir   9180.813651\n",
       "13                  Multiple carriers   9071.932853\n",
       "27                            2 stops   8714.801368\n",
       "8                           Air India   8509.011219\n",
       "15                           SpiceJet   8480.702619\n",
       "24                         Dest_Delhi   8123.385745\n",
       "10                             IndiGo   7696.438936\n",
       "21                     Source_Kolkata   7432.210330\n",
       "28                            3 stops   7039.995055\n",
       "30                           non-stop   6908.162163\n",
       "11                        Jet Airways   6668.706852\n",
       "23                        Dest_Cochin   5991.643890\n",
       "20                       Source_Delhi   5991.643890\n",
       "1                       journey_month   2379.920575"
      ]
     },
     "execution_count": 61,
     "metadata": {},
     "output_type": "execute_result"
    }
   ],
   "source": [
    "# Sort the featurescore by higest-to-lowest scores\n",
    "featurescore = featurescore.sort_values(by = \"Score\", ascending= False)\n",
    "featurescore"
   ]
  },
  {
   "cell_type": "code",
   "execution_count": 62,
   "metadata": {},
   "outputs": [
    {
     "data": {
      "image/png": "[encoded data removed]",
      "text/plain": [
       "<Figure size 1440x360 with 1 Axes>"
      ]
     },
     "metadata": {
      "needs_background": "light"
     },
     "output_type": "display_data"
    }
   ],
   "source": [
    "# Plotting the Features based on Scores\n",
    "plt.figure(figsize= (20,5))\n",
    "sb.barplot(x = \"Feature\", y = \"Score\", data = featurescore)\n",
    "plt.box(False)\n",
    "plt.title(\"Features Ranked by Scores\", fontsize = 15)\n",
    "plt.xlabel(\"\\n Feature\", fontsize = 13)\n",
    "plt.ylabel(\"Importance \\n\", fontsize = 13)\n",
    "plt.xticks(fontsize = 10, rotation = 90)\n",
    "plt.xticks(fontsize = 10)\n",
    "plt.show()"
   ]
  },
  {
   "cell_type": "code",
   "execution_count": 63,
   "metadata": {},
   "outputs": [
    {
     "data": {
      "text/plain": [
       "['dep_min',\n",
       " 'duration_hour',\n",
       " 'arr_min',\n",
       " 'duration_minute',\n",
       " 'journey_date',\n",
       " 'arr_hour',\n",
       " 'dep_hour',\n",
       " 'Trujet',\n",
       " '4 stops',\n",
       " 'Vistara Premium economy',\n",
       " 'Jet Airways Business',\n",
       " 'Multiple carriers Premium economy',\n",
       " 'Dest_Kolkata',\n",
       " 'Source_Chennai',\n",
       " 'Vistara']"
      ]
     },
     "execution_count": 63,
     "metadata": {},
     "output_type": "execute_result"
    }
   ],
   "source": [
    "# Selecting through 15 most important features\n",
    "features_list = featurescore[\"Feature\"].tolist()[:15]\n",
    "features_list"
   ]
  },
  {
   "cell_type": "markdown",
   "metadata": {},
   "source": [
    "### Extra Tree Regression Method"
   ]
  },
  {
   "cell_type": "code",
   "execution_count": 64,
   "metadata": {},
   "outputs": [],
   "source": [
    "# Important feature using ExtraTreeRegressor\n",
    "\n",
    "from sklearn.ensemble import ExtraTreesRegressor\n",
    "selection = ExtraTreesRegressor()\n",
    "tree_fit = selection.fit(x,y)"
   ]
  },
  {
   "cell_type": "code",
   "execution_count": 65,
   "metadata": {},
   "outputs": [],
   "source": [
    "xyscore = pd.DataFrame(tree_fit.feature_importances_)\n",
    "xycolumn = pd.DataFrame(x.columns)"
   ]
  },
  {
   "cell_type": "code",
   "execution_count": 66,
   "metadata": {},
   "outputs": [],
   "source": [
    "# Concatenate both data frames to get features and scores\n",
    "tree_featurescore = pd.concat([xycolumn, xyscore], axis = 1)\n",
    "\n",
    "# rename columns featurescore dataframe\n",
    "tree_featurescore.columns = [\"Feature\", \"Importance\"]"
   ]
  },
  {
   "cell_type": "code",
   "execution_count": 67,
   "metadata": {},
   "outputs": [
    {
     "data": {
      "text/html": [
       "<div>\n",
       "<style scoped>\n",
       "    .dataframe tbody tr th:only-of-type {\n",
       "        vertical-align: middle;\n",
       "    }\n",
       "\n",
       "    .dataframe tbody tr th {\n",
       "        vertical-align: top;\n",
       "    }\n",
       "\n",
       "    .dataframe thead th {\n",
       "        text-align: right;\n",
       "    }\n",
       "</style>\n",
       "<table border=\"1\" class=\"dataframe\">\n",
       "  <thead>\n",
       "    <tr style=\"text-align: right;\">\n",
       "      <th></th>\n",
       "      <th>Feature</th>\n",
       "      <th>Importance</th>\n",
       "    </tr>\n",
       "  </thead>\n",
       "  <tbody>\n",
       "    <tr>\n",
       "      <th>30</th>\n",
       "      <td>non-stop</td>\n",
       "      <td>0.372559</td>\n",
       "    </tr>\n",
       "    <tr>\n",
       "      <th>0</th>\n",
       "      <td>journey_date</td>\n",
       "      <td>0.143255</td>\n",
       "    </tr>\n",
       "    <tr>\n",
       "      <th>11</th>\n",
       "      <td>Jet Airways</td>\n",
       "      <td>0.074533</td>\n",
       "    </tr>\n",
       "    <tr>\n",
       "      <th>12</th>\n",
       "      <td>Jet Airways Business</td>\n",
       "      <td>0.066095</td>\n",
       "    </tr>\n",
       "    <tr>\n",
       "      <th>1</th>\n",
       "      <td>journey_month</td>\n",
       "      <td>0.056330</td>\n",
       "    </tr>\n",
       "    <tr>\n",
       "      <th>6</th>\n",
       "      <td>duration_hour</td>\n",
       "      <td>0.040849</td>\n",
       "    </tr>\n",
       "    <tr>\n",
       "      <th>10</th>\n",
       "      <td>IndiGo</td>\n",
       "      <td>0.032261</td>\n",
       "    </tr>\n",
       "    <tr>\n",
       "      <th>4</th>\n",
       "      <td>arr_hour</td>\n",
       "      <td>0.028358</td>\n",
       "    </tr>\n",
       "    <tr>\n",
       "      <th>2</th>\n",
       "      <td>dep_hour</td>\n",
       "      <td>0.024573</td>\n",
       "    </tr>\n",
       "    <tr>\n",
       "      <th>27</th>\n",
       "      <td>2 stops</td>\n",
       "      <td>0.022393</td>\n",
       "    </tr>\n",
       "    <tr>\n",
       "      <th>3</th>\n",
       "      <td>dep_min</td>\n",
       "      <td>0.021207</td>\n",
       "    </tr>\n",
       "    <tr>\n",
       "      <th>5</th>\n",
       "      <td>arr_min</td>\n",
       "      <td>0.020308</td>\n",
       "    </tr>\n",
       "    <tr>\n",
       "      <th>24</th>\n",
       "      <td>Dest_Delhi</td>\n",
       "      <td>0.018535</td>\n",
       "    </tr>\n",
       "    <tr>\n",
       "      <th>7</th>\n",
       "      <td>duration_minute</td>\n",
       "      <td>0.018192</td>\n",
       "    </tr>\n",
       "    <tr>\n",
       "      <th>13</th>\n",
       "      <td>Multiple carriers</td>\n",
       "      <td>0.015097</td>\n",
       "    </tr>\n",
       "    <tr>\n",
       "      <th>15</th>\n",
       "      <td>SpiceJet</td>\n",
       "      <td>0.007463</td>\n",
       "    </tr>\n",
       "    <tr>\n",
       "      <th>22</th>\n",
       "      <td>Source_Mumbai</td>\n",
       "      <td>0.005482</td>\n",
       "    </tr>\n",
       "    <tr>\n",
       "      <th>8</th>\n",
       "      <td>Air India</td>\n",
       "      <td>0.005320</td>\n",
       "    </tr>\n",
       "    <tr>\n",
       "      <th>21</th>\n",
       "      <td>Source_Kolkata</td>\n",
       "      <td>0.005243</td>\n",
       "    </tr>\n",
       "    <tr>\n",
       "      <th>25</th>\n",
       "      <td>Dest_Hyderabad</td>\n",
       "      <td>0.004890</td>\n",
       "    </tr>\n",
       "    <tr>\n",
       "      <th>28</th>\n",
       "      <td>3 stops</td>\n",
       "      <td>0.003690</td>\n",
       "    </tr>\n",
       "    <tr>\n",
       "      <th>17</th>\n",
       "      <td>Vistara</td>\n",
       "      <td>0.003057</td>\n",
       "    </tr>\n",
       "    <tr>\n",
       "      <th>23</th>\n",
       "      <td>Dest_Cochin</td>\n",
       "      <td>0.003011</td>\n",
       "    </tr>\n",
       "    <tr>\n",
       "      <th>20</th>\n",
       "      <td>Source_Delhi</td>\n",
       "      <td>0.002793</td>\n",
       "    </tr>\n",
       "    <tr>\n",
       "      <th>9</th>\n",
       "      <td>GoAir</td>\n",
       "      <td>0.001669</td>\n",
       "    </tr>\n",
       "    <tr>\n",
       "      <th>19</th>\n",
       "      <td>Source_Chennai</td>\n",
       "      <td>0.000968</td>\n",
       "    </tr>\n",
       "    <tr>\n",
       "      <th>14</th>\n",
       "      <td>Multiple carriers Premium economy</td>\n",
       "      <td>0.000853</td>\n",
       "    </tr>\n",
       "    <tr>\n",
       "      <th>26</th>\n",
       "      <td>Dest_Kolkata</td>\n",
       "      <td>0.000739</td>\n",
       "    </tr>\n",
       "    <tr>\n",
       "      <th>16</th>\n",
       "      <td>Trujet</td>\n",
       "      <td>0.000171</td>\n",
       "    </tr>\n",
       "    <tr>\n",
       "      <th>29</th>\n",
       "      <td>4 stops</td>\n",
       "      <td>0.000055</td>\n",
       "    </tr>\n",
       "    <tr>\n",
       "      <th>18</th>\n",
       "      <td>Vistara Premium economy</td>\n",
       "      <td>0.000050</td>\n",
       "    </tr>\n",
       "  </tbody>\n",
       "</table>\n",
       "</div>"
      ],
      "text/plain": [
       "                              Feature  Importance\n",
       "30                           non-stop    0.372559\n",
       "0                        journey_date    0.143255\n",
       "11                        Jet Airways    0.074533\n",
       "12               Jet Airways Business    0.066095\n",
       "1                       journey_month    0.056330\n",
       "6                       duration_hour    0.040849\n",
       "10                             IndiGo    0.032261\n",
       "4                            arr_hour    0.028358\n",
       "2                            dep_hour    0.024573\n",
       "27                            2 stops    0.022393\n",
       "3                             dep_min    0.021207\n",
       "5                             arr_min    0.020308\n",
       "24                         Dest_Delhi    0.018535\n",
       "7                     duration_minute    0.018192\n",
       "13                  Multiple carriers    0.015097\n",
       "15                           SpiceJet    0.007463\n",
       "22                      Source_Mumbai    0.005482\n",
       "8                           Air India    0.005320\n",
       "21                     Source_Kolkata    0.005243\n",
       "25                     Dest_Hyderabad    0.004890\n",
       "28                            3 stops    0.003690\n",
       "17                            Vistara    0.003057\n",
       "23                        Dest_Cochin    0.003011\n",
       "20                       Source_Delhi    0.002793\n",
       "9                               GoAir    0.001669\n",
       "19                     Source_Chennai    0.000968\n",
       "14  Multiple carriers Premium economy    0.000853\n",
       "26                       Dest_Kolkata    0.000739\n",
       "16                             Trujet    0.000171\n",
       "29                            4 stops    0.000055\n",
       "18            Vistara Premium economy    0.000050"
      ]
     },
     "execution_count": 67,
     "metadata": {},
     "output_type": "execute_result"
    }
   ],
   "source": [
    "# Sort the featurescore by higest-to-lowest scores\n",
    "tree_featurescore = tree_featurescore.sort_values(by = \"Importance\", ascending= False)\n",
    "tree_featurescore"
   ]
  },
  {
   "cell_type": "code",
   "execution_count": 68,
   "metadata": {},
   "outputs": [
    {
     "data": {
      "image/png": "[encoded data removed]",
      "text/plain": [
       "<Figure size 1440x360 with 1 Axes>"
      ]
     },
     "metadata": {
      "needs_background": "light"
     },
     "output_type": "display_data"
    }
   ],
   "source": [
    "# Plotting the Features based on Scores\n",
    "plt.figure(figsize= (20,5))\n",
    "sb.barplot(x = \"Feature\", y = \"Importance\", data = tree_featurescore)\n",
    "plt.box(False)\n",
    "plt.title(\"Features Ranked by Scores\", fontsize = 15)\n",
    "plt.xlabel(\"\\n Feature\", fontsize = 13)\n",
    "plt.ylabel(\"Importance \\n\", fontsize = 13)\n",
    "plt.xticks(fontsize = 10, rotation = 90)\n",
    "plt.xticks(fontsize = 10)\n",
    "plt.show()"
   ]
  },
  {
   "cell_type": "code",
   "execution_count": 69,
   "metadata": {},
   "outputs": [
    {
     "data": {
      "text/plain": [
       "['non-stop',\n",
       " 'journey_date',\n",
       " 'Jet Airways',\n",
       " 'Jet Airways Business',\n",
       " 'journey_month',\n",
       " 'duration_hour',\n",
       " 'IndiGo',\n",
       " 'arr_hour',\n",
       " 'dep_hour',\n",
       " '2 stops',\n",
       " 'dep_min',\n",
       " 'arr_min',\n",
       " 'Dest_Delhi',\n",
       " 'duration_minute',\n",
       " 'Multiple carriers']"
      ]
     },
     "execution_count": 69,
     "metadata": {},
     "output_type": "execute_result"
    }
   ],
   "source": [
    "# Selecting through 15 most important features\n",
    "tree_features_list = tree_featurescore[\"Feature\"].tolist()[:15]\n",
    "tree_features_list"
   ]
  },
  {
   "cell_type": "markdown",
   "metadata": {},
   "source": [
    "### Feature Selection Notes\n",
    "\n",
    "After Feature selection using SelectKBest - ChiSquared and Extra Tree Regression method, SelectKBest shows that all columns are equally important. Based on the SelectKBest plot, out of 31 columns, only \"Journey Month\" is an unimportant factor that can be ignored. So a model that says 30 columns out of 31 are important is not to be used. \n",
    "\n",
    "Extra Tree Regression method shows better results. The plot shows that 15 columns or features are the most important. There is a sharp decline between the importance factor of the first 15 features and the rest 16. \n",
    "\n",
    "Based on Extra Tree Regression Method, the most important features: \n",
    "\n",
    "1. Whether a flight is non-stop \n",
    "2. The Date of the journey\n",
    "3. Jet Airways Economy Class\n",
    "4. Jet Airways Business Class\n",
    "5. The Month of the journey \n",
    "6. How many hours of journey\n",
    "7. Indigo Economy Class\n",
    "8. The Arrival Hour \n",
    "9. The departure Hour\n",
    "10. Flight has 2-stops between departure and final arrival airports\n",
    "11. The Departure Minute\n",
    "12. The Arrival Minute\n",
    "13. Destination Airport is Delhi\n",
    "14. How many minutes of Journey\n",
    "15. Multiple Carrier Airlines\n",
    "\n",
    "This shows that the factors that people take into consideration while booking a flight are:\n",
    "\n",
    "<i>Whether it is a Non-Stop or Two-Stop flight \n",
    "\n",
    "The Date and Month of trip, \n",
    " \n",
    "Departure & Arrival times, \n",
    "\n",
    "Flight Duration, \n",
    "\n",
    "Jet Airways (Economy & Business), Indigo Economy are both highly sought\n",
    "\n",
    "Delhi Destination</i>"
   ]
  },
  {
   "cell_type": "markdown",
   "metadata": {},
   "source": [
    "## Model Building \n",
    "\n",
    "Using KNN (K Nearest Neighbors), Lasso, Ridge & Random Forest Models"
   ]
  },
  {
   "cell_type": "markdown",
   "metadata": {},
   "source": [
    "### Data Preparation\n",
    "\n",
    "#### Data Scaling\n",
    "\n",
    "The algorithms which use Euclidean Distance measure are sensitive to Magnitudes. Here feature scaling helps to weigh all the features equally. Formally, If a feature in the dataset is big in scale compared to others then in algorithms where Euclidean distance is measured this big scaled feature becomes dominating and needs to be normalized."
   ]
  },
  {
   "cell_type": "code",
   "execution_count": 70,
   "metadata": {},
   "outputs": [],
   "source": [
    "from sklearn.preprocessing import StandardScaler \n",
    "\n",
    "scaler =StandardScaler()\n",
    "x = scaler.fit_transform(x)"
   ]
  },
  {
   "cell_type": "markdown",
   "metadata": {},
   "source": [
    "#### Splitting Data "
   ]
  },
  {
   "cell_type": "code",
   "execution_count": 71,
   "metadata": {},
   "outputs": [],
   "source": [
    "from sklearn.model_selection import train_test_split\n",
    "\n",
    "X_train, X_test, y_train, y_test = train_test_split(x, y, test_size = 0.2, random_state = 1234)"
   ]
  },
  {
   "cell_type": "markdown",
   "metadata": {},
   "source": [
    "#### Importing All Libraries"
   ]
  },
  {
   "cell_type": "code",
   "execution_count": 72,
   "metadata": {},
   "outputs": [],
   "source": [
    "#import sys\n",
    "#!{sys.executable} -m pip install xgboost"
   ]
  },
  {
   "cell_type": "code",
   "execution_count": 73,
   "metadata": {},
   "outputs": [],
   "source": [
    "#pip install mlxtend"
   ]
  },
  {
   "cell_type": "code",
   "execution_count": 74,
   "metadata": {},
   "outputs": [],
   "source": [
    "from sklearn.model_selection import GridSearchCV\n",
    "from sklearn.model_selection import RandomizedSearchCV\n",
    "\n",
    "from sklearn.neighbors import KNeighborsRegressor\n",
    "from sklearn.linear_model import Ridge\n",
    "from sklearn.linear_model import Lasso\n",
    "from sklearn.tree import DecisionTreeRegressor\n",
    "from sklearn.ensemble import RandomForestRegressor\n",
    "from xgboost import XGBRegressor\n",
    "from mlxtend.regressor import StackingRegressor\n",
    "from sklearn.metrics import mean_squared_error, r2_score \n",
    "\n",
    "from sklearn.preprocessing import LabelEncoder"
   ]
  },
  {
   "cell_type": "markdown",
   "metadata": {},
   "source": [
    "### KNN Regression"
   ]
  },
  {
   "cell_type": "code",
   "execution_count": 75,
   "metadata": {},
   "outputs": [],
   "source": [
    "knr = KNeighborsRegressor(n_neighbors= 5)\n",
    "knr.fit(X_train, y_train)\n",
    "y_train_pred = knr.predict(X_train)\n",
    "y_test_pred = knr.predict(X_test)"
   ]
  },
  {
   "cell_type": "code",
   "execution_count": 76,
   "metadata": {},
   "outputs": [
    {
     "name": "stdout",
     "output_type": "stream",
     "text": [
      "Train Results for KNN Regressor Model:\n",
      "--------------------------------------------------\n",
      "Root mean squared error:  1882.0080661925983\n",
      "R-squared:  0.8384134676931219\n"
     ]
    }
   ],
   "source": [
    "print(\"Train Results for KNN Regressor Model:\")\n",
    "print(50 * '-')\n",
    "print(\"Root mean squared error: \", np.sqrt(mean_squared_error(y_train, y_train_pred)))\n",
    "print(\"R-squared: \", r2_score(y_train, y_train_pred))"
   ]
  },
  {
   "cell_type": "code",
   "execution_count": 77,
   "metadata": {},
   "outputs": [
    {
     "name": "stdout",
     "output_type": "stream",
     "text": [
      "Test Results for KNN Regressor Model:\n",
      "--------------------------------------------------\n",
      "Root mean squared error:  2241.513404039186\n",
      "R-squared:  0.7389812916651766\n"
     ]
    }
   ],
   "source": [
    "print(\"Test Results for KNN Regressor Model:\")\n",
    "print(50 * '-')\n",
    "print(\"Root mean squared error: \", np.sqrt(mean_squared_error(y_test, y_test_pred)))\n",
    "print(\"R-squared: \", r2_score(y_test, y_test_pred))"
   ]
  },
  {
   "cell_type": "markdown",
   "metadata": {},
   "source": [
    "### Ridge Regression"
   ]
  },
  {
   "cell_type": "code",
   "execution_count": 78,
   "metadata": {},
   "outputs": [],
   "source": [
    "ridge_regressor = Ridge(alpha= 5)\n",
    "ridge_regressor.fit(X_train, y_train)\n",
    "y_train_pred = ridge_regressor.predict(X_train)\n",
    "y_test_pred = ridge_regressor.predict(X_test)"
   ]
  },
  {
   "cell_type": "code",
   "execution_count": 79,
   "metadata": {},
   "outputs": [
    {
     "name": "stdout",
     "output_type": "stream",
     "text": [
      "Train Results for Ridge Regressor Model:\n",
      "--------------------------------------------------\n",
      "Root mean squared error:  2873.429649009838\n",
      "R-squared:  0.6233280005953465\n"
     ]
    }
   ],
   "source": [
    "print(\"Train Results for Ridge Regressor Model:\")\n",
    "print(50 * '-')\n",
    "print(\"Root mean squared error: \", np.sqrt(mean_squared_error(y_train, y_train_pred)))\n",
    "print(\"R-squared: \", r2_score(y_train, y_train_pred))"
   ]
  },
  {
   "cell_type": "code",
   "execution_count": 80,
   "metadata": {},
   "outputs": [
    {
     "name": "stdout",
     "output_type": "stream",
     "text": [
      "Test Results for Ridge Regressor Model:\n",
      "--------------------------------------------------\n",
      "Root mean squared error:  2823.8407767250387\n",
      "R-squared:  0.5857434670020465\n"
     ]
    }
   ],
   "source": [
    "print(\"Test Results for Ridge Regressor Model:\")\n",
    "print(50 * '-')\n",
    "print(\"Root mean squared error: \", np.sqrt(mean_squared_error(y_test, y_test_pred)))\n",
    "print(\"R-squared: \", r2_score(y_test, y_test_pred))"
   ]
  },
  {
   "cell_type": "markdown",
   "metadata": {},
   "source": [
    "### Lasso Regression"
   ]
  },
  {
   "cell_type": "code",
   "execution_count": 81,
   "metadata": {},
   "outputs": [],
   "source": [
    "lasso_regressor = Lasso(alpha= 5)\n",
    "lasso_regressor.fit(X_train, y_train)\n",
    "y_train_pred = lasso_regressor.predict(X_train)\n",
    "y_test_pred = lasso_regressor.predict(X_test)"
   ]
  },
  {
   "cell_type": "code",
   "execution_count": 82,
   "metadata": {},
   "outputs": [
    {
     "name": "stdout",
     "output_type": "stream",
     "text": [
      "Train Results for Lasso Regressor Model:\n",
      "--------------------------------------------------\n",
      "Root mean squared error:  2873.9497614964584\n",
      "R-squared:  0.6231916272958804\n"
     ]
    }
   ],
   "source": [
    "print(\"Train Results for Lasso Regressor Model:\")\n",
    "print(50 * '-')\n",
    "print(\"Root mean squared error: \", np.sqrt(mean_squared_error(y_train, y_train_pred)))\n",
    "print(\"R-squared: \", r2_score(y_train, y_train_pred))"
   ]
  },
  {
   "cell_type": "code",
   "execution_count": 83,
   "metadata": {},
   "outputs": [
    {
     "name": "stdout",
     "output_type": "stream",
     "text": [
      "Test Results for Lasso Regressor Model:\n",
      "--------------------------------------------------\n",
      "Root mean squared error:  2822.1267668431997\n",
      "R-squared:  0.586246203776497\n"
     ]
    }
   ],
   "source": [
    "print(\"Test Results for Lasso Regressor Model:\")\n",
    "print(50 * '-')\n",
    "print(\"Root mean squared error: \", np.sqrt(mean_squared_error(y_test, y_test_pred)))\n",
    "print(\"R-squared: \", r2_score(y_test, y_test_pred))"
   ]
  },
  {
   "cell_type": "markdown",
   "metadata": {},
   "source": [
    "#### Decision Tree Regression "
   ]
  },
  {
   "cell_type": "code",
   "execution_count": 84,
   "metadata": {},
   "outputs": [],
   "source": [
    "dec_tree = DecisionTreeRegressor()\n",
    "dec_tree.fit(X_train, y_train)\n",
    "y_train_pred = dec_tree.predict(X_train)\n",
    "y_test_pred = dec_tree.predict(X_test)"
   ]
  },
  {
   "cell_type": "code",
   "execution_count": 85,
   "metadata": {},
   "outputs": [
    {
     "name": "stdout",
     "output_type": "stream",
     "text": [
      "Train Results for Decision Tree Regressor Model:\n",
      "--------------------------------------------------\n",
      "Root mean squared error:  787.962410243904\n",
      "R-squared:  0.9716747859819077\n"
     ]
    }
   ],
   "source": [
    "print(\"Train Results for Decision Tree Regressor Model:\")\n",
    "print(50 * '-')\n",
    "print(\"Root mean squared error: \", np.sqrt(mean_squared_error(y_train, y_train_pred)))\n",
    "print(\"R-squared: \", r2_score(y_train, y_train_pred))"
   ]
  },
  {
   "cell_type": "code",
   "execution_count": 86,
   "metadata": {},
   "outputs": [
    {
     "name": "stdout",
     "output_type": "stream",
     "text": [
      "Test Results for Decision Tree Regressor Model:\n",
      "--------------------------------------------------\n",
      "Root mean squared error:  2582.4614449990986\n",
      "R-squared:  0.6535371699617276\n"
     ]
    }
   ],
   "source": [
    "print(\"Test Results for Decision Tree Regressor Model:\")\n",
    "print(50 * '-')\n",
    "print(\"Root mean squared error: \", np.sqrt(mean_squared_error(y_test, y_test_pred)))\n",
    "print(\"R-squared: \", r2_score(y_test, y_test_pred))"
   ]
  },
  {
   "cell_type": "markdown",
   "metadata": {},
   "source": [
    "### Random Forest Regression "
   ]
  },
  {
   "cell_type": "code",
   "execution_count": 87,
   "metadata": {},
   "outputs": [],
   "source": [
    "rf_model = RandomForestRegressor()\n",
    "rf_model.fit(X_train, y_train)\n",
    "y_train_pred = rf_model.predict(X_train)\n",
    "y_test_pred = rf_model.predict(X_test)"
   ]
  },
  {
   "cell_type": "code",
   "execution_count": 88,
   "metadata": {},
   "outputs": [
    {
     "name": "stdout",
     "output_type": "stream",
     "text": [
      "Train Results for Random Forest Regressor Model:\n",
      "--------------------------------------------------\n",
      "Root mean squared error:  991.0356517462855\n",
      "R-squared:  0.9551935272891521\n"
     ]
    }
   ],
   "source": [
    "print(\"Train Results for Random Forest Regressor Model:\")\n",
    "print(50 * '-')\n",
    "print(\"Root mean squared error: \", np.sqrt(mean_squared_error(y_train, y_train_pred)))\n",
    "print(\"R-squared: \", r2_score(y_train, y_train_pred))"
   ]
  },
  {
   "cell_type": "code",
   "execution_count": 89,
   "metadata": {},
   "outputs": [
    {
     "name": "stdout",
     "output_type": "stream",
     "text": [
      "Test Results for Random Forest Regressor Model:\n",
      "--------------------------------------------------\n",
      "Root mean squared error:  1930.8717835526384\n",
      "R-squared:  0.8063150713623849\n"
     ]
    }
   ],
   "source": [
    "print(\"Test Results for Random Forest Regressor Model:\")\n",
    "print(50 * '-')\n",
    "print(\"Root mean squared error: \", np.sqrt(mean_squared_error(y_test, y_test_pred)))\n",
    "print(\"R-squared: \", r2_score(y_test, y_test_pred))"
   ]
  },
  {
   "cell_type": "markdown",
   "metadata": {},
   "source": [
    "### XGBoost Regression"
   ]
  },
  {
   "cell_type": "code",
   "execution_count": 90,
   "metadata": {},
   "outputs": [],
   "source": [
    "xgboost = XGBRegressor()\n",
    "xgboost.fit(X_train, y_train)\n",
    "y_train_pred = xgboost.predict(X_train)\n",
    "y_test_pred = xgboost.predict(X_test)"
   ]
  },
  {
   "cell_type": "code",
   "execution_count": 91,
   "metadata": {},
   "outputs": [
    {
     "name": "stdout",
     "output_type": "stream",
     "text": [
      "Train Results for XGBoost Regressor Model:\n",
      "--------------------------------------------------\n",
      "Root mean squared error:  1197.9730062977428\n",
      "R-squared:  0.9345279009655242\n"
     ]
    }
   ],
   "source": [
    "print(\"Train Results for XGBoost Regressor Model:\")\n",
    "print(50 * '-')\n",
    "print(\"Root mean squared error: \", np.sqrt(mean_squared_error(y_train, y_train_pred)))\n",
    "print(\"R-squared: \", r2_score(y_train, y_train_pred))"
   ]
  },
  {
   "cell_type": "code",
   "execution_count": 92,
   "metadata": {},
   "outputs": [
    {
     "name": "stdout",
     "output_type": "stream",
     "text": [
      "Test Results for XGBoost Regressor Model:\n",
      "--------------------------------------------------\n",
      "Root mean squared error:  1821.0287680738015\n",
      "R-squared:  0.827724876818335\n"
     ]
    }
   ],
   "source": [
    "print(\"Test Results for XGBoost Regressor Model:\")\n",
    "print(50 * '-')\n",
    "print(\"Root mean squared error: \", np.sqrt(mean_squared_error(y_test, y_test_pred)))\n",
    "print(\"R-squared: \", r2_score(y_test, y_test_pred))"
   ]
  },
  {
   "cell_type": "markdown",
   "metadata": {},
   "source": [
    "#### Summary of Models so far:\n",
    "\n",
    "<u>Test R-Squared Per Model</u>: \n",
    "\n",
    "KNN Model: 73.89%\n",
    "\n",
    "Ridge Regression Model: 58.57%\n",
    "\n",
    "Lasso Regression Model: 58.62%\n",
    "\n",
    "Decision Tree Model: 69.46%\n",
    "\n",
    "Random Forest Model: 80.44%\n",
    "\n",
    "XGBoost Model: 82.77%\n",
    "\n",
    "This shows that the XGBoost and Random Forest models gives the best results. I will fine tune it further to get a higher accuracy.  \n",
    "\n",
    "### Hyper Parameter Tuning\n",
    "\n",
    "#### Random Forest: "
   ]
  },
  {
   "cell_type": "code",
   "execution_count": 93,
   "metadata": {},
   "outputs": [
    {
     "data": {
      "text/plain": [
       "RandomizedSearchCV(cv=5, estimator=RandomForestRegressor(), n_iter=25,\n",
       "                   n_jobs=-1,\n",
       "                   param_distributions={'min_samples_leaf': [1, 2, 3, 4],\n",
       "                                        'min_samples_split': [3, 5, 8, 10],\n",
       "                                        'n_estimators': [100, 200, 300, 400,\n",
       "                                                         500]},\n",
       "                   scoring='neg_mean_absolute_error')"
      ]
     },
     "execution_count": 93,
     "metadata": {},
     "output_type": "execute_result"
    }
   ],
   "source": [
    "params = {\"n_estimators\": [100, 200, 300, 400, 500], \"min_samples_split\": [3, 5, 8, 10], \"min_samples_leaf\": [1, 2, 3, 4]}\n",
    "rf_n_model = RandomizedSearchCV(rf_model, params, n_iter= 25, scoring= \"neg_mean_absolute_error\", cv = 5, n_jobs= -1)\n",
    "rf_n_model.fit(X_train, y_train)"
   ]
  },
  {
   "cell_type": "code",
   "execution_count": 94,
   "metadata": {},
   "outputs": [
    {
     "name": "stdout",
     "output_type": "stream",
     "text": [
      "RandomForestRegressor(min_samples_split=8, n_estimators=400)\n"
     ]
    },
    {
     "data": {
      "text/plain": [
       "{'n_estimators': 400, 'min_samples_split': 8, 'min_samples_leaf': 1}"
      ]
     },
     "execution_count": 94,
     "metadata": {},
     "output_type": "execute_result"
    }
   ],
   "source": [
    "print(rf_n_model.best_estimator_)\n",
    "rf_n_model.best_params_"
   ]
  },
  {
   "cell_type": "code",
   "execution_count": 95,
   "metadata": {},
   "outputs": [],
   "source": [
    "y_train_pred = rf_n_model.predict(X_train)\n",
    "y_test_pred = rf_n_model.predict(X_test)"
   ]
  },
  {
   "cell_type": "code",
   "execution_count": 96,
   "metadata": {},
   "outputs": [
    {
     "name": "stdout",
     "output_type": "stream",
     "text": [
      "Train Results for Hyper Tuned Random Forest Regressor Model:\n",
      "--------------------------------------------------\n",
      "Root mean squared error:  1304.8431322650335\n",
      "R-squared:  0.9223254388483745\n"
     ]
    }
   ],
   "source": [
    "print(\"Train Results for Hyper Tuned Random Forest Regressor Model:\")\n",
    "print(50 * '-')\n",
    "print(\"Root mean squared error: \", np.sqrt(mean_squared_error(y_train, y_train_pred)))\n",
    "print(\"R-squared: \", r2_score(y_train, y_train_pred))"
   ]
  },
  {
   "cell_type": "code",
   "execution_count": 97,
   "metadata": {},
   "outputs": [
    {
     "name": "stdout",
     "output_type": "stream",
     "text": [
      "Test Results for Hyper Tuned Random Forest Regressor Model:\n",
      "--------------------------------------------------\n",
      "Root mean squared error:  1794.9484759302195\n",
      "R-squared:  0.8326240985602971\n"
     ]
    }
   ],
   "source": [
    "print(\"Test Results for Hyper Tuned Random Forest Regressor Model:\")\n",
    "print(50 * '-')\n",
    "print(\"Root mean squared error: \", np.sqrt(mean_squared_error(y_test, y_test_pred)))\n",
    "print(\"R-squared: \", r2_score(y_test, y_test_pred))"
   ]
  },
  {
   "cell_type": "markdown",
   "metadata": {},
   "source": [
    "#### XGBoost:"
   ]
  },
  {
   "cell_type": "code",
   "execution_count": 98,
   "metadata": {},
   "outputs": [
    {
     "data": {
      "text/plain": [
       "RandomizedSearchCV(cv=5,\n",
       "                   estimator=XGBRegressor(base_score=0.5, booster='gbtree',\n",
       "                                          colsample_bylevel=1,\n",
       "                                          colsample_bynode=1,\n",
       "                                          colsample_bytree=1, gamma=0,\n",
       "                                          gpu_id=-1, importance_type='gain',\n",
       "                                          interaction_constraints='',\n",
       "                                          learning_rate=0.300000012,\n",
       "                                          max_delta_step=0, max_depth=6,\n",
       "                                          min_child_weight=1, missing=nan,\n",
       "                                          monotone_constraints='()',\n",
       "                                          n_estimators=100, n_jobs=8,\n",
       "                                          num_par...l_tree=1, random_state=0,\n",
       "                                          reg_alpha=0, reg_lambda=1,\n",
       "                                          scale_pos_weight=1, subsample=1,\n",
       "                                          tree_method='exact',\n",
       "                                          validate_parameters=1,\n",
       "                                          verbosity=None),\n",
       "                   n_iter=20, n_jobs=-1,\n",
       "                   param_distributions={'learning_rate': [0.01, 0.03, 0.05,\n",
       "                                                          0.07, 1],\n",
       "                                        'max_depth': [1, 2, 3, 4, 5],\n",
       "                                        'n_estimators': [100, 200, 300, 400,\n",
       "                                                         500],\n",
       "                                        'reg_lambda': [0.01, 0.1, 0, 1, 10,\n",
       "                                                       100]},\n",
       "                   scoring='neg_mean_absolute_error')"
      ]
     },
     "execution_count": 98,
     "metadata": {},
     "output_type": "execute_result"
    }
   ],
   "source": [
    "params = {\"max_depth\": [1, 2, 3, 4, 5], \"learning_rate\": [0.01, 0.03, 0.05, 0.07, 1], \"n_estimators\": [100, 200, 300, 400, 500], \"reg_lambda\": [0.01, 0.1, 0, 1, 10, 100]}\n",
    "xgboost_n = RandomizedSearchCV(xgboost, params, n_iter= 20, scoring= \"neg_mean_absolute_error\", cv = 5, n_jobs= -1)\n",
    "xgboost_n.fit(X_train, y_train)"
   ]
  },
  {
   "cell_type": "code",
   "execution_count": 99,
   "metadata": {},
   "outputs": [
    {
     "name": "stdout",
     "output_type": "stream",
     "text": [
      "XGBRegressor(base_score=0.5, booster='gbtree', colsample_bylevel=1,\n",
      "             colsample_bynode=1, colsample_bytree=1, gamma=0, gpu_id=-1,\n",
      "             importance_type='gain', interaction_constraints='',\n",
      "             learning_rate=0.07, max_delta_step=0, max_depth=4,\n",
      "             min_child_weight=1, missing=nan, monotone_constraints='()',\n",
      "             n_estimators=400, n_jobs=8, num_parallel_tree=1, random_state=0,\n",
      "             reg_alpha=0, reg_lambda=0, scale_pos_weight=1, subsample=1,\n",
      "             tree_method='exact', validate_parameters=1, verbosity=None)\n"
     ]
    },
    {
     "data": {
      "text/plain": [
       "{'reg_lambda': 0, 'n_estimators': 400, 'max_depth': 4, 'learning_rate': 0.07}"
      ]
     },
     "execution_count": 99,
     "metadata": {},
     "output_type": "execute_result"
    }
   ],
   "source": [
    "print(xgboost_n.best_estimator_)\n",
    "xgboost_n.best_params_"
   ]
  },
  {
   "cell_type": "code",
   "execution_count": 100,
   "metadata": {},
   "outputs": [],
   "source": [
    "y_train_pred = xgboost_n.predict(X_train)\n",
    "y_test_pred = xgboost_n.predict(X_test)"
   ]
  },
  {
   "cell_type": "code",
   "execution_count": 101,
   "metadata": {},
   "outputs": [
    {
     "name": "stdout",
     "output_type": "stream",
     "text": [
      "Train Results for Hyper Tuned XGBoost Regressor Model:\n",
      "--------------------------------------------------\n",
      "Root mean squared error:  1657.9927657341996\n",
      "R-squared:  0.8745913587148691\n"
     ]
    }
   ],
   "source": [
    "print(\"Train Results for Hyper Tuned XGBoost Regressor Model:\")\n",
    "print(50 * '-')\n",
    "print(\"Root mean squared error: \", np.sqrt(mean_squared_error(y_train, y_train_pred)))\n",
    "print(\"R-squared: \", r2_score(y_train, y_train_pred))"
   ]
  },
  {
   "cell_type": "code",
   "execution_count": 102,
   "metadata": {},
   "outputs": [
    {
     "name": "stdout",
     "output_type": "stream",
     "text": [
      "Test Results for Hyper Tuned XGBoost Regressor Model:\n",
      "--------------------------------------------------\n",
      "Root mean squared error:  1927.716356992631\n",
      "R-squared:  0.8069475931033748\n"
     ]
    }
   ],
   "source": [
    "print(\"Test Results for Hyper Tuned XGBoost Regressor Model:\")\n",
    "print(50 * '-')\n",
    "print(\"Root mean squared error: \", np.sqrt(mean_squared_error(y_test, y_test_pred)))\n",
    "print(\"R-squared: \", r2_score(y_test, y_test_pred))"
   ]
  },
  {
   "cell_type": "markdown",
   "metadata": {},
   "source": [
    "#### Summary of Hyper Tuned Models:\n",
    "\n",
    "<u>Test R-Squared Per Model</u>:\n",
    "\n",
    "Random Forest Model: 83.26%\n",
    "\n",
    "XGBoost Model: 80.70%\n",
    "\n",
    "Since both these models give almost the same r-squared values, Stacking them might give a higher accuracy.\n",
    "\n",
    "### Stacking"
   ]
  },
  {
   "cell_type": "code",
   "execution_count": 103,
   "metadata": {},
   "outputs": [
    {
     "data": {
      "text/plain": [
       "StackingRegressor(meta_regressor=RandomForestRegressor(),\n",
       "                  regressors=[Ridge(), Lasso(), KNeighborsRegressor(),\n",
       "                              XGBRegressor(base_score=None, booster=None,\n",
       "                                           colsample_bylevel=None,\n",
       "                                           colsample_bynode=None,\n",
       "                                           colsample_bytree=None, gamma=None,\n",
       "                                           gpu_id=None, importance_type='gain',\n",
       "                                           interaction_constraints=None,\n",
       "                                           learning_rate=None,\n",
       "                                           max_delta_step=None, max_depth=None,\n",
       "                                           min_child_weight=None, missing=nan,\n",
       "                                           monotone_constraints=None,\n",
       "                                           n_estimators=100, n_jobs=None,\n",
       "                                           num_parallel_tree=None,\n",
       "                                           random_state=None, reg_alpha=None,\n",
       "                                           reg_lambda=None,\n",
       "                                           scale_pos_weight=None,\n",
       "                                           subsample=None, tree_method=None,\n",
       "                                           validate_parameters=None,\n",
       "                                           verbosity=None)])"
      ]
     },
     "execution_count": 103,
     "metadata": {},
     "output_type": "execute_result"
    }
   ],
   "source": [
    "# Intializing Models\n",
    "\n",
    "ridge = Ridge()\n",
    "lasso = Lasso()\n",
    "rf = RandomForestRegressor()\n",
    "xgboost = XGBRegressor()\n",
    "knn = KNeighborsRegressor()\n",
    "\n",
    "stack = StackingRegressor(regressors= [ridge, lasso, knn, xgboost], meta_regressor= rf)\n",
    "stack.fit(X_train, y_train)"
   ]
  },
  {
   "cell_type": "code",
   "execution_count": 104,
   "metadata": {},
   "outputs": [
    {
     "name": "stdout",
     "output_type": "stream",
     "text": [
      "[Ridge(), Lasso(), KNeighborsRegressor(), XGBRegressor(base_score=0.5, booster='gbtree', colsample_bylevel=1,\n",
      "             colsample_bynode=1, colsample_bytree=1, gamma=0, gpu_id=-1,\n",
      "             importance_type='gain', interaction_constraints='',\n",
      "             learning_rate=0.300000012, max_delta_step=0, max_depth=6,\n",
      "             min_child_weight=1, missing=nan, monotone_constraints='()',\n",
      "             n_estimators=100, n_jobs=8, num_parallel_tree=1, random_state=0,\n",
      "             reg_alpha=0, reg_lambda=1, scale_pos_weight=1, subsample=1,\n",
      "             tree_method='exact', validate_parameters=1, verbosity=None)]\n"
     ]
    },
    {
     "data": {
      "text/plain": [
       "RandomForestRegressor()"
      ]
     },
     "execution_count": 104,
     "metadata": {},
     "output_type": "execute_result"
    }
   ],
   "source": [
    "print(stack.regr_)\n",
    "stack.meta_regr_"
   ]
  },
  {
   "cell_type": "code",
   "execution_count": 105,
   "metadata": {},
   "outputs": [],
   "source": [
    "y_train_pred = stack.predict(X_train)\n",
    "y_test_pred = stack.predict(X_test)"
   ]
  },
  {
   "cell_type": "code",
   "execution_count": 106,
   "metadata": {},
   "outputs": [
    {
     "name": "stdout",
     "output_type": "stream",
     "text": [
      "Train Results for Stacked Regressor Model:\n",
      "--------------------------------------------------\n",
      "Root mean squared error:  860.8160872049679\n",
      "R-squared:  0.9661948436184575\n"
     ]
    }
   ],
   "source": [
    "print(\"Train Results for Stacked Regressor Model:\")\n",
    "print(50 * '-')\n",
    "print(\"Root mean squared error: \", np.sqrt(mean_squared_error(y_train, y_train_pred)))\n",
    "print(\"R-squared: \", r2_score(y_train, y_train_pred))"
   ]
  },
  {
   "cell_type": "code",
   "execution_count": 107,
   "metadata": {},
   "outputs": [
    {
     "name": "stdout",
     "output_type": "stream",
     "text": [
      "Test Results for Stacked Regressor Model:\n",
      "--------------------------------------------------\n",
      "Root mean squared error:  2085.371772900175\n",
      "R-squared:  0.7740793456848587\n"
     ]
    }
   ],
   "source": [
    "print(\"Test Results for Stacked Regressor Model:\")\n",
    "print(50 * '-')\n",
    "print(\"Root mean squared error: \", np.sqrt(mean_squared_error(y_test, y_test_pred)))\n",
    "print(\"R-squared: \", r2_score(y_test, y_test_pred))"
   ]
  },
  {
   "cell_type": "markdown",
   "metadata": {},
   "source": [
    "### Model Conclusions: \n",
    "\n",
    "The best RMSE & R-squared results are for hyper-parameter tuned Random Forest and hyper-parameter tuned XGBoost. The stacking of different models shows a comparitively low r-squared and RMSE values as well. Use the hyper tuned Random forest & XGBoost models to get price on the test dataset. \n",
    "\n",
    "### Test Dataset Price Prediction"
   ]
  },
  {
   "cell_type": "code",
   "execution_count": 108,
   "metadata": {
    "scrolled": true
   },
   "outputs": [
    {
     "data": {
      "text/html": [
       "<div>\n",
       "<style scoped>\n",
       "    .dataframe tbody tr th:only-of-type {\n",
       "        vertical-align: middle;\n",
       "    }\n",
       "\n",
       "    .dataframe tbody tr th {\n",
       "        vertical-align: top;\n",
       "    }\n",
       "\n",
       "    .dataframe thead th {\n",
       "        text-align: right;\n",
       "    }\n",
       "</style>\n",
       "<table border=\"1\" class=\"dataframe\">\n",
       "  <thead>\n",
       "    <tr style=\"text-align: right;\">\n",
       "      <th></th>\n",
       "      <th>journey_date</th>\n",
       "      <th>journey_month</th>\n",
       "      <th>dep_hour</th>\n",
       "      <th>dep_min</th>\n",
       "      <th>arr_hour</th>\n",
       "      <th>arr_min</th>\n",
       "      <th>duration_hour</th>\n",
       "      <th>duration_minute</th>\n",
       "      <th>Air India</th>\n",
       "      <th>GoAir</th>\n",
       "      <th>...</th>\n",
       "      <th>Source_Mumbai</th>\n",
       "      <th>Dest_Cochin</th>\n",
       "      <th>Dest_Delhi</th>\n",
       "      <th>Dest_Hyderabad</th>\n",
       "      <th>Dest_Kolkata</th>\n",
       "      <th>New Delhi</th>\n",
       "      <th>2 stops</th>\n",
       "      <th>3 stops</th>\n",
       "      <th>4 stops</th>\n",
       "      <th>non-stop</th>\n",
       "    </tr>\n",
       "  </thead>\n",
       "  <tbody>\n",
       "    <tr>\n",
       "      <th>0</th>\n",
       "      <td>6</td>\n",
       "      <td>6</td>\n",
       "      <td>17</td>\n",
       "      <td>30</td>\n",
       "      <td>4</td>\n",
       "      <td>25</td>\n",
       "      <td>10</td>\n",
       "      <td>55</td>\n",
       "      <td>0</td>\n",
       "      <td>0</td>\n",
       "      <td>...</td>\n",
       "      <td>0</td>\n",
       "      <td>1</td>\n",
       "      <td>0</td>\n",
       "      <td>0</td>\n",
       "      <td>0</td>\n",
       "      <td>0</td>\n",
       "      <td>0</td>\n",
       "      <td>0</td>\n",
       "      <td>0</td>\n",
       "      <td>0</td>\n",
       "    </tr>\n",
       "    <tr>\n",
       "      <th>1</th>\n",
       "      <td>12</td>\n",
       "      <td>5</td>\n",
       "      <td>6</td>\n",
       "      <td>20</td>\n",
       "      <td>10</td>\n",
       "      <td>20</td>\n",
       "      <td>4</td>\n",
       "      <td>0</td>\n",
       "      <td>0</td>\n",
       "      <td>0</td>\n",
       "      <td>...</td>\n",
       "      <td>0</td>\n",
       "      <td>0</td>\n",
       "      <td>0</td>\n",
       "      <td>0</td>\n",
       "      <td>0</td>\n",
       "      <td>0</td>\n",
       "      <td>0</td>\n",
       "      <td>0</td>\n",
       "      <td>0</td>\n",
       "      <td>0</td>\n",
       "    </tr>\n",
       "    <tr>\n",
       "      <th>2</th>\n",
       "      <td>21</td>\n",
       "      <td>5</td>\n",
       "      <td>19</td>\n",
       "      <td>15</td>\n",
       "      <td>19</td>\n",
       "      <td>0</td>\n",
       "      <td>23</td>\n",
       "      <td>45</td>\n",
       "      <td>0</td>\n",
       "      <td>0</td>\n",
       "      <td>...</td>\n",
       "      <td>0</td>\n",
       "      <td>1</td>\n",
       "      <td>0</td>\n",
       "      <td>0</td>\n",
       "      <td>0</td>\n",
       "      <td>0</td>\n",
       "      <td>0</td>\n",
       "      <td>0</td>\n",
       "      <td>0</td>\n",
       "      <td>0</td>\n",
       "    </tr>\n",
       "    <tr>\n",
       "      <th>3</th>\n",
       "      <td>21</td>\n",
       "      <td>5</td>\n",
       "      <td>8</td>\n",
       "      <td>0</td>\n",
       "      <td>21</td>\n",
       "      <td>0</td>\n",
       "      <td>13</td>\n",
       "      <td>0</td>\n",
       "      <td>0</td>\n",
       "      <td>0</td>\n",
       "      <td>...</td>\n",
       "      <td>0</td>\n",
       "      <td>1</td>\n",
       "      <td>0</td>\n",
       "      <td>0</td>\n",
       "      <td>0</td>\n",
       "      <td>0</td>\n",
       "      <td>0</td>\n",
       "      <td>0</td>\n",
       "      <td>0</td>\n",
       "      <td>0</td>\n",
       "    </tr>\n",
       "    <tr>\n",
       "      <th>4</th>\n",
       "      <td>24</td>\n",
       "      <td>6</td>\n",
       "      <td>23</td>\n",
       "      <td>55</td>\n",
       "      <td>2</td>\n",
       "      <td>45</td>\n",
       "      <td>2</td>\n",
       "      <td>50</td>\n",
       "      <td>0</td>\n",
       "      <td>0</td>\n",
       "      <td>...</td>\n",
       "      <td>0</td>\n",
       "      <td>0</td>\n",
       "      <td>1</td>\n",
       "      <td>0</td>\n",
       "      <td>0</td>\n",
       "      <td>0</td>\n",
       "      <td>0</td>\n",
       "      <td>0</td>\n",
       "      <td>0</td>\n",
       "      <td>1</td>\n",
       "    </tr>\n",
       "  </tbody>\n",
       "</table>\n",
       "<p>5 rows × 31 columns</p>\n",
       "</div>"
      ],
      "text/plain": [
       "   journey_date  journey_month  dep_hour  dep_min  arr_hour  arr_min  \\\n",
       "0             6              6        17       30         4       25   \n",
       "1            12              5         6       20        10       20   \n",
       "2            21              5        19       15        19        0   \n",
       "3            21              5         8        0        21        0   \n",
       "4            24              6        23       55         2       45   \n",
       "\n",
       "   duration_hour  duration_minute  Air India  GoAir  ...  Source_Mumbai  \\\n",
       "0             10               55          0      0  ...              0   \n",
       "1              4                0          0      0  ...              0   \n",
       "2             23               45          0      0  ...              0   \n",
       "3             13                0          0      0  ...              0   \n",
       "4              2               50          0      0  ...              0   \n",
       "\n",
       "   Dest_Cochin  Dest_Delhi  Dest_Hyderabad  Dest_Kolkata  New Delhi  2 stops  \\\n",
       "0            1           0               0             0          0        0   \n",
       "1            0           0               0             0          0        0   \n",
       "2            1           0               0             0          0        0   \n",
       "3            1           0               0             0          0        0   \n",
       "4            0           1               0             0          0        0   \n",
       "\n",
       "   3 stops  4 stops  non-stop  \n",
       "0        0        0         0  \n",
       "1        0        0         0  \n",
       "2        0        0         0  \n",
       "3        0        0         0  \n",
       "4        0        0         1  \n",
       "\n",
       "[5 rows x 31 columns]"
      ]
     },
     "execution_count": 108,
     "metadata": {},
     "output_type": "execute_result"
    }
   ],
   "source": [
    "test_dataset = final_test.loc[:, ['journey_date',\n",
    "       'journey_month', 'dep_hour', 'dep_min', 'arr_hour', 'arr_min',\n",
    "       'duration_hour', 'duration_minute', 'Air India', 'GoAir', 'IndiGo',\n",
    "       'Jet Airways', 'Jet Airways Business', 'Multiple carriers',\n",
    "       'Multiple carriers Premium economy', 'SpiceJet', 'Vistara',\n",
    "       'Vistara Premium economy', 'Source_Chennai', 'Source_Delhi',\n",
    "       'Source_Kolkata', 'Source_Mumbai', 'Dest_Cochin', 'Dest_Delhi',\n",
    "       'Dest_Hyderabad', 'Dest_Kolkata', 'New Delhi', '2 stops', '3 stops',\n",
    "       '4 stops', 'non-stop']]\n",
    "\n",
    "test_dataset.head()"
   ]
  },
  {
   "cell_type": "code",
   "execution_count": 109,
   "metadata": {},
   "outputs": [],
   "source": [
    "scaler =StandardScaler()\n",
    "test_x = scaler.fit_transform(test_dataset)"
   ]
  },
  {
   "cell_type": "code",
   "execution_count": 110,
   "metadata": {},
   "outputs": [],
   "source": [
    "# Price based on Hyper Tuned Random Forest Model\n",
    "price_rf = rf_n_model.predict(test_x)"
   ]
  },
  {
   "cell_type": "code",
   "execution_count": 111,
   "metadata": {},
   "outputs": [],
   "source": [
    "# Price based on Hyper Tuned XGBoost Model\n",
    "price_xgb = xgboost_n.predict(test_x)"
   ]
  },
  {
   "cell_type": "code",
   "execution_count": 112,
   "metadata": {},
   "outputs": [],
   "source": [
    "price_rf = pd.DataFrame(price_rf)\n",
    "price_xgb = pd.DataFrame(price_xgb)"
   ]
  },
  {
   "cell_type": "code",
   "execution_count": 113,
   "metadata": {},
   "outputs": [],
   "source": [
    "price_rf.to_csv(\"price_rf.csv\", index= False)\n",
    "price_xgb.to_csv(\"price_xgb.csv\", index= False)"
   ]
  }
 ],
 "metadata": {
  "kernelspec": {
   "display_name": "Python 3",
   "language": "python",
   "name": "python3"
  },
  "language_info": {
   "codemirror_mode": {
    "name": "ipython",
    "version": 3
   },
   "file_extension": ".py",
   "mimetype": "text/x-python",
   "name": "python",
   "nbconvert_exporter": "python",
   "pygments_lexer": "ipython3",
   "version": "3.8.3"
  }
 },
 "nbformat": 4,
 "nbformat_minor": 4
}
